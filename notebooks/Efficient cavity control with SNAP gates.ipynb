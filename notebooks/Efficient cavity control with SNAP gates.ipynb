{
 "cells": [
  {
   "cell_type": "code",
   "execution_count": null,
   "metadata": {},
   "outputs": [],
   "source": [
    "import jax.numpy as jnp\n",
    "\n",
    "from qgrad.qgrad_qutip import basis, to_dm, Displace, destroy, coherent, fidelity, sigmax"
   ]
  },
  {
   "cell_type": "code",
   "execution_count": 35,
   "metadata": {},
   "outputs": [],
   "source": [
    "def pad_thetas(hilbert_size, thetas):\n",
    "    \"\"\"\n",
    "    Pads zeros to the end of a theta vector to fill it upto the Hilbert space cuttoff\n",
    "    \n",
    "    Args:\n",
    "    -----\n",
    "        hilbert_size (int): Size of the hilbert space\n",
    "        thetas (:obj:`jnp.ndarray`): List of angles thetas\n",
    "    \n",
    "    Returns:\n",
    "    --------\n",
    "        thetas (:obj:`jnp.ndarray`): List of angles padded with zeros in place of Hilbert space cutoff\n",
    "\n",
    "    \"\"\"\n",
    "    if len(thetas) != hilbert_size:\n",
    "        thetas = jnp.pad(thetas, (0, hilbert_size - len(thetas)), mode=\"constant\")\n",
    "    return thetas\n",
    "\n",
    "def snap(hilbert_size, thetas):\n",
    "    \"\"\"\n",
    "    SNAP gate matrix\n",
    "    \n",
    "    Args:\n",
    "    -----\n",
    "        hilbert_size (int): Hilbert space cuttoff\n",
    "        thetas (:obj:`jnp.ndarray`): A vector of theta values to apply SNAP operation\n",
    "    \n",
    "    Returns:\n",
    "    --------\n",
    "        op (:obj:`jnp.ndarray`): matrix representing the SNAP gate\n",
    "    \"\"\"\n",
    "    thetas = pad_thetas(hilbert_size, thetas)\n",
    "    op = 0 * jnp.eye(hilbert_size)\n",
    "    for i, theta in enumerate(thetas):\n",
    "        op += jnp.exp(1j * theta) * to_dm(basis(hilbert_size, i))\n",
    "    return op"
   ]
  },
  {
   "cell_type": "code",
   "execution_count": 40,
   "metadata": {},
   "outputs": [],
   "source": [
    "N = 10\n",
    "alpha = 0.1\n",
    "theta = jnp.array([0.1, 0.3, 0.5])\n",
    "\n",
    "def block(alpha, theta):\n",
    "    \"\"\"Single building block, B\n",
    "    \n",
    "    Args:\n",
    "    ----\n",
    "        alpha (float): Displacement parameter\n",
    "        theta (jnp.array): SNAP gate parameters\n",
    "        \n",
    "    Returns:\n",
    "    -------\n",
    "        blk (jnp.ndarray): One block parameterization of U\n",
    "    \"\"\"\n",
    "    displace = Displace(10)\n",
    "    blk = jnp.dot(snap(N, theta), displace(alpha))\n",
    "    return jnp.dot(dag(displace(alpha)), blk)"
   ]
  },
  {
   "cell_type": "code",
   "execution_count": null,
   "metadata": {},
   "outputs": [],
   "source": []
  }
 ],
 "metadata": {
  "kernelspec": {
   "display_name": "Python 3",
   "language": "python",
   "name": "python3"
  },
  "language_info": {
   "codemirror_mode": {
    "name": "ipython",
    "version": 3
   },
   "file_extension": ".py",
   "mimetype": "text/x-python",
   "name": "python",
   "nbconvert_exporter": "python",
   "pygments_lexer": "ipython3",
   "version": "3.6.9"
  }
 },
 "nbformat": 4,
 "nbformat_minor": 2
}
