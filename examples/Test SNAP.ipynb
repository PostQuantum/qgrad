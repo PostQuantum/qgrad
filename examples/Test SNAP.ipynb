{
 "cells": [
  {
   "cell_type": "code",
   "execution_count": 2,
   "metadata": {},
   "outputs": [],
   "source": [
    "from qgrad.qgrad_qutip import basis, to_dm, dag, Displace, fidelity\n",
    "import jax.numpy as jnp\n",
    "from jax import grad, jit\n",
    "from functools import reduce\n",
    "import matplotlib.pyplot as plt"
   ]
  },
  {
   "cell_type": "code",
   "execution_count": 3,
   "metadata": {},
   "outputs": [],
   "source": [
    "def pad_thetas(hilbert_size, thetas):\n",
    "    \"\"\"\n",
    "    Pads zeros to the end of a theta vector to fill it upto the Hilbert space cuttoff\n",
    "    \n",
    "    Args:\n",
    "    -----\n",
    "        hilbert_size (int): Size of the hilbert space\n",
    "        thetas (:obj:`jnp.ndarray`): List of angles thetas\n",
    "    \n",
    "    Returns:\n",
    "    --------\n",
    "        thetas (:obj:`jnp.ndarray`): List of angles padded with zeros in place of Hilbert space cutoff\n",
    "\n",
    "    \"\"\"\n",
    "    if len(thetas) != hilbert_size:\n",
    "        thetas = jnp.pad(thetas, (0, hilbert_size - len(thetas)), mode=\"constant\")\n",
    "    return thetas\n",
    "\n",
    "def snap(hilbert_size, thetas):\n",
    "    \"\"\"\n",
    "    SNAP gate matrix\n",
    "    \n",
    "    Args:\n",
    "    -----\n",
    "        hilbert_size (int): Hilbert space cuttoff\n",
    "        thetas (:obj:`jnp.ndarray`): A vector of theta values to apply SNAP operation\n",
    "    \n",
    "    Returns:\n",
    "    --------\n",
    "        op (:obj:`jnp.ndarray`): matrix representing the SNAP gate\n",
    "    \"\"\"\n",
    "    thetas = pad_thetas(hilbert_size, thetas)\n",
    "    op = 0 * jnp.eye(hilbert_size)\n",
    "    for i, theta in enumerate(thetas):\n",
    "        op += jnp.exp(1j * theta) * to_dm(basis(hilbert_size, i))\n",
    "    return op"
   ]
  },
  {
   "cell_type": "code",
   "execution_count": 23,
   "metadata": {},
   "outputs": [],
   "source": [
    "N = 10 # dimesnion of Fock space\n",
    "alphas = jnp.array([1., 0.5, 1.], dtype=complex)\n",
    "theta1, theta2, theta3 = [0.5], [0.5, 0, -1.5], [0.5, -1.5j, 0.2j] \n",
    "# NOTE: No input values to JAX differentiable functions should be int                                  \n",
    "theta1, theta2, theta3 = pad_thetas(N, theta1), pad_thetas(N, theta2), pad_thetas(N, theta3)\n"
   ]
  },
  {
   "cell_type": "code",
   "execution_count": 48,
   "metadata": {},
   "outputs": [],
   "source": [
    "displace = Displace(N)\n",
    "\n",
    "def add_blocks(initial, params, T, hilbert_size):\n",
    "    for t in range(T):\n",
    "        blk = jnp.dot(displace(params[0 + t]), initial)\n",
    "        blk = jnp.dot(snap(hilbert_size, params[T + (t * hilbert_size) : T + (t + 1) * hilbert_size]), blk)\n",
    "        initial = jnp.dot(displace(- params[0 + t]), blk) # displace(alpha)^{\\dagger} = displace(-alpha)\n",
    "\n",
    "    evolved = initial\n",
    "    return evolved\n",
    "\n",
    "def cost(params, initial, target, T, hilbert_size):\n",
    "    \"\"\"Calculates the cost, in this case fidelity, between the target state and \n",
    "    the one evolved by the action of three blocks.\n",
    "    \n",
    "    Args:\n",
    "    -----\n",
    "        params (jnp.array): alpha and theta params of Displace and SNAP respectively, with first three\n",
    "                           being alpha and rest three being theta for each of the SNAP\n",
    "        initial (jnp.array): initial state to apply the blocks on\n",
    "        target (jnp.array): desired state\n",
    "    \n",
    "    Returns:\n",
    "    --------\n",
    "        fidelity (float): Fidelity between the target state and the evolved state\n",
    "    \"\"\"\n",
    "    '''\n",
    "    tmp = jnp.dot(displace(params[0]), initial)\n",
    "    tmp = jnp.dot(snap(N, params[3:3+N]), tmp)\n",
    "    tmp = jnp.dot(displace(-params[0]), tmp)\n",
    "    \n",
    "    tmp = jnp.dot(displace(params[1]), tmp)\n",
    "    tmp = jnp.dot(snap(N, params[3+N:3+2*N]), tmp)\n",
    "    tmp = jnp.dot(displace(-params[1]), tmp)\n",
    "    \n",
    "    tmp = jnp.dot(displace(params[2]), tmp)\n",
    "    tmp = jnp.dot(snap(N, params[3+2*N:]), tmp)\n",
    "    tmp = jnp.dot(displace(-params[2]), tmp)\n",
    "    \n",
    "    return 1 - fidelity(target, tmp)[0][0]\n",
    "    '''\n",
    "    evo = add_blocks(initial, params, T, hilbert_size)\n",
    "    return 1 - fidelity(target, evo)[0][0]"
   ]
  },
  {
   "cell_type": "code",
   "execution_count": 49,
   "metadata": {},
   "outputs": [
    {
     "name": "stdout",
     "output_type": "stream",
     "text": [
      "Epoch: 1.000000 | Cost: -0.049726\n",
      "Epoch: 2.000000 | Cost: 0.034475\n",
      "Epoch: 3.000000 | Cost: 0.123562\n",
      "Epoch: 4.000000 | Cost: 0.214488\n",
      "Epoch: 5.000000 | Cost: 0.304598\n",
      "Epoch: 6.000000 | Cost: 0.392123\n",
      "Epoch: 7.000000 | Cost: 0.475542\n",
      "Epoch: 8.000000 | Cost: 0.553245\n",
      "Epoch: 9.000000 | Cost: 0.623634\n",
      "Epoch: 10.000000 | Cost: 0.685484\n"
     ]
    }
   ],
   "source": [
    "epochs = 10\n",
    "T = 3\n",
    "N = 10\n",
    "lr = 0.01 #learning rate\n",
    "tol = 1e-7\n",
    "diff = 1 # diff of new and prev weights should be less than diff\n",
    "max_iters = 2\n",
    "iters = 0\n",
    "params = jnp.concatenate((alphas, theta1, theta2, theta3)).reshape(3 * N + 3, 1)\n",
    "der_cost = grad(cost) #autodiff of the cost function\n",
    "initial = basis(N, 0)\n",
    "target = (jnp.sqrt(3) * basis(10, 3) +  basis(10, 9)) / 2.0\n",
    "\n",
    "for epoch in range (epochs):\n",
    "    iters = 0\n",
    "    diff = 1\n",
    "    tol = 1e-7\n",
    "    while iters < max_iters:\n",
    "        prev_params = params\n",
    "        der = der_cost(prev_params, initial, target, T, N)\n",
    "        params = prev_params - lr * der \n",
    "        iters += 1\n",
    "        diff = jnp.absolute(params - prev_params)\n",
    "    cost_val = cost(params, initial, target, T, N)\n",
    "    progress = [epoch+1, cost_val]\n",
    "    if ((epoch) % 1 == 0):\n",
    "        print(\"Epoch: {:2f} | Cost: {:3f}\".format(*jnp.asarray(progress)))"
   ]
  },
  {
   "cell_type": "code",
   "execution_count": 65,
   "metadata": {},
   "outputs": [
    {
     "data": {
      "text/plain": [
       "DeviceArray(0.9340882, dtype=float32)"
      ]
     },
     "execution_count": 65,
     "metadata": {},
     "output_type": "execute_result"
    }
   ],
   "source": [
    "jnp.linalg.norm(tmp)\n"
   ]
  },
  {
   "cell_type": "code",
   "execution_count": 58,
   "metadata": {},
   "outputs": [
    {
     "data": {
      "text/plain": [
       "DeviceArray(1., dtype=float32)"
      ]
     },
     "execution_count": 58,
     "metadata": {},
     "output_type": "execute_result"
    }
   ],
   "source": [
    "jnp.linalg.norm(target)"
   ]
  },
  {
   "cell_type": "code",
   "execution_count": 67,
   "metadata": {},
   "outputs": [
    {
     "data": {
      "text/plain": [
       "DeviceArray(1.6587565, dtype=float32)"
      ]
     },
     "execution_count": 67,
     "metadata": {},
     "output_type": "execute_result"
    }
   ],
   "source": [
    "jnp.linalg.norm(add_blocks(initial, params,3, N))\n"
   ]
  },
  {
   "cell_type": "code",
   "execution_count": 61,
   "metadata": {},
   "outputs": [
    {
     "data": {
      "text/plain": [
       "DeviceArray([[ 0.76156044+0.9422582j ],\n",
       "             [ 0.12312228-0.5397168j ],\n",
       "             [-0.4094319 -0.15529956j],\n",
       "             [ 0.47211054+0.43294373j],\n",
       "             [-0.36845842-0.34428924j],\n",
       "             [ 0.24101059+0.17633934j],\n",
       "             [-0.14104396-0.06544951j],\n",
       "             [ 0.07494164+0.01686931j],\n",
       "             [-0.03511348-0.00146034j],\n",
       "             [ 0.01789242-0.00167098j]], dtype=complex64)"
      ]
     },
     "execution_count": 61,
     "metadata": {},
     "output_type": "execute_result"
    }
   ],
   "source": [
    "tmp\n"
   ]
  },
  {
   "cell_type": "code",
   "execution_count": 63,
   "metadata": {},
   "outputs": [
    {
     "data": {
      "text/plain": [
       "DeviceArray(0.99999964, dtype=float32)"
      ]
     },
     "execution_count": 63,
     "metadata": {},
     "output_type": "execute_result"
    }
   ],
   "source": [
    "jnp.linalg.norm(jnp.dot(displace(params[0]), initial))\n"
   ]
  },
  {
   "cell_type": "code",
   "execution_count": 64,
   "metadata": {},
   "outputs": [],
   "source": [
    "    tmp = jnp.dot(displace(params[0]), initial)\n",
    "    tmp = jnp.dot(snap(N, params[3:3+N]), tmp)"
   ]
  },
  {
   "cell_type": "markdown",
   "metadata": {},
   "source": [
    "# Decreasing Norm\n",
    "With continued application of each block, actually each operation within each block, the norm of the ket seems to be decreasing"
   ]
  },
  {
   "cell_type": "code",
   "execution_count": null,
   "metadata": {},
   "outputs": [],
   "source": []
  }
 ],
 "metadata": {
  "kernelspec": {
   "display_name": "Python 3",
   "language": "python",
   "name": "python3"
  },
  "language_info": {
   "codemirror_mode": {
    "name": "ipython",
    "version": 3
   },
   "file_extension": ".py",
   "mimetype": "text/x-python",
   "name": "python",
   "nbconvert_exporter": "python",
   "pygments_lexer": "ipython3",
   "version": "3.6.9"
  }
 },
 "nbformat": 4,
 "nbformat_minor": 2
}
