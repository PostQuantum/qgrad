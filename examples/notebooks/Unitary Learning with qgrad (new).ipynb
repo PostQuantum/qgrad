{
 "cells": [
  {
   "cell_type": "markdown",
   "metadata": {},
   "source": [
    "# Introduction\n",
    "\n",
    "In this example, we shall try to learn an abitrary $2 \\times 2$ \n",
    "unitary matrix $U$, via gradient descent. We shall start with a \n",
    "random parameterized unitary matrix $U(\\phi, \\theta, \\omega)$,\n",
    "which is essentially a rotation around $Z-Y-Z$ axes. \n",
    "The $2 \\times 2$ unitary matrix takes the form\n",
    "\n",
    "\n",
    "$U(\\phi, \\theta, \\omega) = RZ(\\omega)RY(\\theta)RZ(\\phi)= \\begin{bmatrix}\n",
    " e^{-i(\\phi+\\omega)/2}\\cos(\\theta/2) & -e^{i(\\phi-\\omega)/2}\\sin(\\theta/2) \\\\\n",
    " e^{-i(\\phi-\\omega)/2}\\sin(\\theta/2) & e^{i(\\phi+\\omega)/2}\\cos(\\theta/2)\n",
    " \\end{bmatrix}$\n",
    " \n",
    " \n",
    "This comes with `qgrad` under `rot`.\n",
    "\n",
    "\n",
    "Here the input dataset consists of $2 \\times 1$ kets, call them\n",
    "$| \\Psi_{i} \\rangle$ and output dataset is the action of the \n",
    "target unitary $U$ on these kets, $U |\\Psi_{i} \\rangle$. The \n",
    "maximum value of $i$ is $80$, meaning that merely use 80\n",
    "data points (kets in this case) to efficiently learn the \n",
    "target unitary, $U$.\n",
    "\n",
    "\n",
    "This tutorial is different from the \n",
    "[Qubit Rotation](https://github.com/qgrad/qgrad/blob/master/examples/QubitRotation.py),\n",
    "in that it learns the unitary matrix to not take a fixed _specific_\n",
    "state to another _fixed_ state. Here the unitary\n",
    "$U(\\phi, \\theta, \\omega)$ is learnt to evolve _any_ same\n",
    "dimensional ket as the target unitary, $U$ would evolve it.\n",
    "\n",
    "\n",
    "**Note**: Another version of this tutorial is implemented \n",
    "without `qgrad` that uses the parametrization used in \n",
    "[Seth Lloyd and Reevu Maity, 2020](https://arxiv.org/pdf/1901.03431.pdf)\n",
    "and verifies the results of that paper. This tutorial \n",
    "shows similar results, with different unitary paramterization\n",
    "$U(\\phi, \\theta, \\omega)$ as shown above since the\n",
    "parametrization used in the original paper uses hamiltonians \n",
    "in the powers of exponents, whose autodifferentiation is\n",
    "not currently supported in JAX. For further reading \n",
    "on this autodifferentiation incompatibility, please \n",
    "refer to this companion \n",
    "[blog](https://araza6.github.io/posts/hamiltonian-differentiation/)\n"
   ]
  },
  {
   "cell_type": "code",
   "execution_count": 1,
   "metadata": {},
   "outputs": [],
   "source": [
    "import jax.numpy as jnp\n",
    "from jax import grad\n",
    "from jax.experimental import optimizers\n",
    "from jax.random import PRNGKey, uniform\n",
    "\n",
    "import numpy as onp\n",
    "\n",
    "#Visualization\n",
    "import matplotlib.pyplot as plt \n",
    "from matplotlib import cm\n",
    "\n",
    "from qgrad.qgrad_qutip import fidelity, rot, Unitary\n",
    "\n",
    "from qutip import rand_ket # only to make the dataset\n",
    "\n",
    "from scipy.stats import unitary_group"
   ]
  },
  {
   "cell_type": "code",
   "execution_count": 2,
   "metadata": {},
   "outputs": [
    {
     "name": "stderr",
     "output_type": "stream",
     "text": [
      "/home/asad/anaconda3/lib/python3.6/site-packages/jax/lib/xla_bridge.py:130: UserWarning: No GPU/TPU found, falling back to CPU.\n",
      "  warnings.warn('No GPU/TPU found, falling back to CPU.')\n"
     ]
    }
   ],
   "source": [
    "def make_dataset(m, d):\n",
    "    \"\"\"Prepares a dataset of input and output \n",
    "    kets to be used for training.\n",
    "    \n",
    "    Args:\n",
    "        m (int): Number of data points, 80% of \n",
    "            which would be used for training\n",
    "        d (int): Dimension of a (square) unitary\n",
    "            matrix to be approximated\n",
    "    \n",
    "    Returns:\n",
    "        tuple: tuple of lists containing (numpy arrays of)\n",
    "            input and output kets respectively\n",
    "    \"\"\"\n",
    "    ket_input = []\n",
    "    ket_output = [] \n",
    "    for i in range(m):\n",
    "        ket_input.append(jnp.array(rand_ket(d, seed=300).full()))\n",
    "        #Output data -- action of unitary on a ket states\n",
    "        ket_output.append(jnp.dot(tar_unitr, ket_input[i]))  \n",
    "    \n",
    "    return (ket_input, ket_output)\n",
    "\n",
    "m = 100 # number of training data points\n",
    "N = 8 # Dimension of the unitary to be learnt\n",
    "train_len = int(m * 0.8)\n",
    "tar_unitr = jnp.asarray(unitary_group.rvs(N))\n",
    "ket_input, ket_output = make_dataset(m, N)"
   ]
  },
  {
   "cell_type": "markdown",
   "metadata": {},
   "source": [
    "# Cost Function\n",
    "\n",
    "We use the same cost function as the authors\n",
    "[Seth Lloyd and Reevu Maity, 2020](https://arxiv.org/pdf/1901.03431.pdf)\n",
    "define \n",
    "\n",
    "$\\begin{equation} \\label{err_ps}\n",
    "         E = 1 - (\\frac{1}{M})\\sum_{i} \\langle \\psi_{i}|U^{\\dagger} U(\\phi, \\theta, \\omega)|\\psi_{i}\\rangle\n",
    " \\end{equation}$, \n",
    "\n",
    "where $ |\\psi_{i} \\rangle$ is the training (or testing) \n",
    "data points -- in this case, kets. And $U$ and \n",
    "$U(\\phi, \\theta, \\omega)$ are the target and\n",
    "parameterized unittaries respectively.\n",
    "\n",
    "Since we have only three parameters to tune,\n",
    "it might be instructive to visualize the loss\n",
    "landscape over the first two parameters, $\\phi$\n",
    "and $\\theta$. "
   ]
  },
  {
   "cell_type": "code",
   "execution_count": 3,
   "metadata": {},
   "outputs": [],
   "source": [
    "def cost(params, inputs, outputs):\n",
    "    r\"\"\"Calculates the cost/error on the whole \n",
    "        training dataset.\n",
    "    \n",
    "    Args:\n",
    "        params: parameters :math:`\\phi, \\theta` and :math:`\\omega`\n",
    "        inputs: input kets :math:`|\\psi_{l}>` in the dataset\n",
    "        outputs: output kets :math:`U(\\vec{t}, \\vec{\\tau})*|ket\\_input>` \n",
    "            in the dataset\n",
    "    \n",
    "    Returns:\n",
    "        float: Cost (evaluated on the entire dataset) of parametrizing \n",
    "            :math:`U(\\phi, \\theta, \\omega)` with `params`                  \n",
    "    \"\"\"\n",
    "    loss = 0.0\n",
    "    thetas, phis, omegas = params\n",
    "    unitary = Unitary(N)(thetas, phis, omegas)\n",
    "    for k in range(train_len):\n",
    "        pred = jnp.dot(unitary, inputs[k]) \n",
    "        loss += jnp.absolute(jnp.real(jnp.dot(outputs[k].conjugate().T, pred)))\n",
    "\n",
    "    loss = 1 - (1 / train_len) * loss\n",
    "    return loss[0][0]"
   ]
  },
  {
   "cell_type": "code",
   "execution_count": 4,
   "metadata": {},
   "outputs": [],
   "source": [
    "def test_score(params, inputs, outputs):\n",
    "    \"\"\"Calculates the average fidelity between the\n",
    "        predicted and output kets for given parameters\n",
    "        (averaged over the whole training set).\n",
    "       \n",
    "       Args:\n",
    "           params: parameters :math:`\\phi, \\theta` and :math:`\\omega`\n",
    "           inputs: input kets :math:`|\\psi_{l}>` in the dataset \n",
    "           outputs: output kets :math:`U(\\vec{t}, \\vec{\\tau})*|ket\\_input>` \n",
    "               in the dataset\n",
    "           \n",
    "       Returns:\n",
    "           float: fidelity between :math:`U(\\phi, \\theta, \\omega)*|ket_{input} \\rangle`\n",
    "               and the output (label) kets for given `params`\n",
    "            \n",
    "       \"\"\"\n",
    "    fidel = 0\n",
    "    thetas, phis, omegas = params\n",
    "    unitary = Unitary(N)(thetas, phis, omegas)\n",
    "    for i in range(train_len):\n",
    "        pred = jnp.dot(unitary, inputs[i])\n",
    "        step_fidel = fidelity(pred, outputs[i])\n",
    "        fidel += step_fidel\n",
    "        \n",
    "        \n",
    "    return (fidel / train_len)[0][0]"
   ]
  },
  {
   "cell_type": "code",
   "execution_count": 5,
   "metadata": {},
   "outputs": [
    {
     "name": "stdout",
     "output_type": "stream",
     "text": [
      "Epoch: 10.000000 | Loss: 0.047677 | Fidelity: 0.907110\n",
      "Epoch: 20.000000 | Loss: 0.019404 | Fidelity: 0.962204\n",
      "Epoch: 30.000000 | Loss: 0.004455 | Fidelity: 0.991216\n",
      "Epoch: 40.000000 | Loss: 0.001617 | Fidelity: 0.996984\n",
      "Epoch: 50.000000 | Loss: 0.000722 | Fidelity: 0.998561\n"
     ]
    }
   ],
   "source": [
    "thetas = uniform(PRNGKey(0), ((N * (N - 1) // 2),),\n",
    "                 minval = - jnp.pi, maxval = jnp.pi)\n",
    "phis = uniform(PRNGKey(1), ((N * (N - 1) // 2),), \n",
    "               minval = - jnp.pi, maxval= jnp.pi)\n",
    "omegas = uniform(PRNGKey(2), (N,), \n",
    "                 minval = - jnp.pi, maxval = jnp.pi)\n",
    "params = [thetas, phis, omegas]\n",
    "\n",
    "opt_init, opt_update, get_params = optimizers.adam(step_size=1e-1)\n",
    "opt_state = opt_init(params)\n",
    "\n",
    "def step(i, opt_state, opt_update):\n",
    "    params = get_params(opt_state)\n",
    "    g = grad(cost)(params, ket_input, ket_output)\n",
    "    return opt_update(i, g, opt_state)\n",
    "\n",
    "epochs = 50\n",
    "loss_hist = []\n",
    "params_hist = []\n",
    "fidel_hist = []\n",
    "\n",
    "for i in range(epochs):\n",
    "    opt_state = step(i, opt_state, opt_update)\n",
    "    params = get_params(opt_state)\n",
    "    params_hist.append(params)\n",
    "    loss = cost(params, ket_input, ket_output)\n",
    "    loss_hist.append(loss)\n",
    "    avg_fidel = test_score(params, ket_input, ket_output)\n",
    "    fidel_hist.append(avg_fidel)\n",
    "    progress = [i+1, loss, avg_fidel]\n",
    "    if (i % 10 == 9):\n",
    "        print(\"Epoch: {:2f} | Loss: {:3f} | Fidelity: {:3f}\".format(*jnp.asarray(progress)))"
   ]
  },
  {
   "cell_type": "code",
   "execution_count": 6,
   "metadata": {},
   "outputs": [],
   "source": [
    "theta_arr = [param_vec[0] for param_vec in params_hist]\n",
    "phi_arr = [param_vec[1] for param_vec in params_hist]\n",
    "omega_arr = [param_vec[2] for param_vec in params_hist]\n",
    "path_cost = []\n",
    "for theta, phi, omega in zip(theta_arr, phi_arr, omega_arr):\n",
    "    path_cost.append(\n",
    "        cost([theta, phi, omega], ket_input, ket_output)\n",
    "    )\n",
    "path_theta = [param_vec[0][0] for param_vec in params_hist]\n",
    "path_phi = [param_vec[1][0] for param_vec in params_hist]"
   ]
  },
  {
   "cell_type": "markdown",
   "metadata": {},
   "source": [
    "# Analyzing Learning Routine\n",
    "\n",
    "We see that we _efficiently_ (with $~99 \\%$ fidelity)\n",
    "reconstruct the target unitary $U$ starting from an \n",
    "initial guess 0, for all the three angles of \n",
    "$U(\\phi, \\theta, \\omega)$. We merely use $80$\n",
    "examples for training, and in $40$ crude gradient\n",
    "steps, we almost perfectly approximate the target\n",
    "unitary, $U$. Below is a plot of how fidelity increases\n",
    "and loss gets down to zero in the training schedule.\n",
    "\n",
    "In the graph below, $M$ represents\n",
    "the total size of the train set, $\\psi_{label}$ \n",
    "represents the resulting ket the evolved under \n",
    "the target unitary, $U$ as $U |\\psi_{i} \\rangle$ and \n",
    "$\\psi_{pred}$ represents the ket $\\psi_{i}$\n",
    "evolved under $U(\\phi, \\theta, \\omega)$\n",
    "as $ U(\\phi, \\theta, \\omega) | \\psi_{i} \\rangle$.\n",
    "Each marker is the fidelity between the predicted\n",
    "and the target/label kets is averaged over the\n",
    "whole train set"
   ]
  },
  {
   "cell_type": "code",
   "execution_count": 7,
   "metadata": {},
   "outputs": [
    {
     "data": {
      "text/plain": [
       "<matplotlib.legend.Legend at 0x7f9e0c1825f8>"
      ]
     },
     "execution_count": 7,
     "metadata": {},
     "output_type": "execute_result"
    },
    {
     "data": {
      "image/png": "[encoded data removed]",
      "text/plain": [
       "<Figure size 648x432 with 1 Axes>"
      ]
     },
     "metadata": {
      "needs_background": "light"
     },
     "output_type": "display_data"
    }
   ],
   "source": [
    "plt.figure(figsize=(9, 6))\n",
    "\n",
    "plt.plot(fidel_hist, marker = 'o', \n",
    "         label=r\"$F = \\frac{1}{M}\\sum_{i}| \\langle \\psi_{label} | \\psi_{pred} \\rangle |^2$\")\n",
    "\n",
    "plt.plot(loss_hist, marker = 'x',\n",
    "        label=r\"$L = 1 - (\\frac{1}{M})\\sum_{i}\\langle \\psi_{i} | U ^{\\dagger} U(\\phi, \\theta, \\omega) | \\psi_{i} \\rangle$\")\n",
    "\n",
    "plt.title(\"Fidelity and Cost Trends\", fontweight = \"bold\")\n",
    "plt.legend([\"Fidelity\",\"Loss\"])\n",
    "plt.xlabel(\"epoch\")\n",
    "plt.legend(loc=0, prop = {'size': 15})"
   ]
  },
  {
   "cell_type": "markdown",
   "metadata": {},
   "source": [
    "# Testing on unseen kets\n",
    "\n",
    "We reserved the last $20$ kets for testing. Now we shall apply\n",
    "our learned unitary matrix, call it $U_{opt}(\\phi, \\theta, \\omega)$\n",
    "to the unseen kets and measure the fidelity of the evolved ket\n",
    "under $U_{opt}(\\phi, \\theta, \\omega)$ with those that evolved \n",
    "under the target unitary, $U$."
   ]
  },
  {
   "cell_type": "code",
   "execution_count": 8,
   "metadata": {},
   "outputs": [
    {
     "data": {
      "text/plain": [
       "Text(0, 0.5, 'Fidelity')"
      ]
     },
     "execution_count": 8,
     "metadata": {},
     "output_type": "execute_result"
    },
    {
     "data": {
      "image/png": "[encoded data removed]",
      "text/plain": [
       "<Figure size 432x288 with 1 Axes>"
      ]
     },
     "metadata": {
      "needs_background": "light"
     },
     "output_type": "display_data"
    }
   ],
   "source": [
    "theta_opt, phi_opt, omega_opt = params_hist[-1]\n",
    "opt_unitary = Unitary(N)(theta_opt, phi_opt, omega_opt)\n",
    "fidel = []\n",
    "for i in range(train_len, m): # unseen data\n",
    "    pred = jnp.dot(opt_unitary, ket_input[i])\n",
    "    fidel.append(fidelity(pred, ket_output[i])[0][0])\n",
    "plt.plot(range(len(fidel)), fidel)\n",
    "plt.ylim(0, 1.2)\n",
    "plt.xlabel(\"Test kets\")\n",
    "plt.ylabel(\"Fidelity\")"
   ]
  },
  {
   "cell_type": "code",
   "execution_count": 9,
   "metadata": {},
   "outputs": [
    {
     "data": {
      "image/png": "[encoded data removed]",
      "text/plain": [
       "<Figure size 432x288 with 1 Axes>"
      ]
     },
     "metadata": {
      "needs_background": "light"
     },
     "output_type": "display_data"
    }
   ],
   "source": [
    "n, bins, patches = plt.hist(fidel, 10, facecolor='g', alpha=0.4)\n",
    "#plt.xlim(0, 1)\n",
    "plt.grid(True)"
   ]
  },
  {
   "cell_type": "markdown",
   "metadata": {},
   "source": [
    "# References\n",
    "1. Lloyd, Seth, and Reevu Maity. \"Efficient implementation of unitary transformations.\" arXiv preprint arXiv:1901.03431 (2019)."
   ]
  },
  {
   "cell_type": "code",
   "execution_count": null,
   "metadata": {},
   "outputs": [],
   "source": []
  }
 ],
 "metadata": {
  "kernelspec": {
   "display_name": "Python 3",
   "language": "python",
   "name": "python3"
  },
  "language_info": {
   "codemirror_mode": {
    "name": "ipython",
    "version": 3
   },
   "file_extension": ".py",
   "mimetype": "text/x-python",
   "name": "python",
   "nbconvert_exporter": "python",
   "pygments_lexer": "ipython3",
   "version": "3.6.9"
  },
  "varInspector": {
   "cols": {
    "lenName": 16,
    "lenType": 16,
    "lenVar": 40
   },
   "kernels_config": {
    "python": {
     "delete_cmd_postfix": "",
     "delete_cmd_prefix": "del ",
     "library": "var_list.py",
     "varRefreshCmd": "print(var_dic_list())"
    },
    "r": {
     "delete_cmd_postfix": ") ",
     "delete_cmd_prefix": "rm(",
     "library": "var_list.r",
     "varRefreshCmd": "cat(var_dic_list()) "
    }
   },
   "types_to_exclude": [
    "module",
    "function",
    "builtin_function_or_method",
    "instance",
    "_Feature"
   ],
   "window_display": false
  }
 },
 "nbformat": 4,
 "nbformat_minor": 2
}
