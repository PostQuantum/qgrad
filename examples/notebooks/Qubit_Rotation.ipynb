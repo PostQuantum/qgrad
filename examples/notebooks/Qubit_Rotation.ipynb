{
 "cells": [
  {
   "cell_type": "markdown",
   "metadata": {},
   "source": [
    "# Basic Qubit Rotation Example  \n",
    "\n",
    "In this example, we show how we can use a \n",
    "simple gradient descent method to optimize\n",
    "a unitary gate for qubit rotation. The idea \n",
    "is as follows: We start in $|1 \\rangle$ state\n",
    "on a Bloch Sphere and apply rotations around \n",
    "Z-Y-Z axes (in that order) using \n",
    "$R(\\phi,\\theta,\\omega)$, which is a \n",
    "general unitary operator parameterized \n",
    "by three real parameters, $\\phi$, $\\theta$, \n",
    "and $\\omega$. Each of these parameters represent \n",
    "the degree of rotation around x, y and z axes \n",
    "respectively to reach the target state, \n",
    "which is defined to be $|0 \\rangle$ in \n",
    "this case. $R(\\phi,\\theta,\\omega)$ has\n",
    "the following matrix representation:\n",
    "\n",
    "\n",
    "$$\n",
    "R(\\phi,\\theta,\\omega) = RZ(\\omega)RY(\\theta)RZ(\\phi)= \\begin{bmatrix}\n",
    "e^{-i(\\phi+\\omega)/2}\\cos(\\theta/2) & -e^{i(\\phi-\\omega)/2}\\sin(\\theta/2) \\\\\n",
    "e^{-i(\\phi-\\omega)/2}\\sin(\\theta/2) & e^{i(\\phi+\\omega)/2}\\cos(\\theta/2)\n",
    "\\end{bmatrix}\n",
    "$$"
   ]
  },
  {
   "cell_type": "code",
   "execution_count": 5,
   "metadata": {},
   "outputs": [],
   "source": [
    "import jax.numpy as jnp\n",
    "from jax import grad\n",
    "from jax.random import normal, PRNGKey\n",
    "\n",
    "import numpy as onp\n",
    "\n",
    "from qgrad.qgrad_qutip import basis, fidelity\n",
    "\n",
    "# Visualization\n",
    "from qutip import Bloch"
   ]
  },
  {
   "cell_type": "code",
   "execution_count": 4,
   "metadata": {},
   "outputs": [],
   "source": [
    "def rot(phi, theta, omega):\n",
    "    \"\"\"Returns a rotation matrix represetning\n",
    "    the rotation around Z-Y-Z axis.\n",
    "    \n",
    "    Parameters:\n",
    "        phi (float): rotation angle for the\n",
    "            first rotation around the z-axis     \n",
    "        theta (float): rotation angle for\n",
    "            rotation around the y-axis\n",
    "        omega (float): rotation angle for the \n",
    "            second rotation around the z-axis\n",
    "        \n",
    "    Returns:\n",
    "        :obj:`jnp.ndarray`: array representing \n",
    "            the rotation matrix \n",
    "             \n",
    "    \"\"\"\n",
    "\n",
    "    cos = jnp.cos(theta / 2)\n",
    "    sin = jnp.sin(theta / 2)\n",
    "\n",
    "    return jnp.array(\n",
    "        [\n",
    "            [\n",
    "                jnp.exp(-0.5j * (phi + omega)) * cos,\n",
    "                -(jnp.exp(0.5j * (phi - omega))) * sin,\n",
    "            ],\n",
    "            [\n",
    "                jnp.exp(-0.5j * (phi - omega)) * sin, \n",
    "                jnp.exp(0.5j * (phi + omega)) * cos],\n",
    "            ]\n",
    "    )"
   ]
  },
  {
   "cell_type": "code",
   "execution_count": 15,
   "metadata": {},
   "outputs": [],
   "source": [
    "def cost(phi, theta, omega, ket):\n",
    "    r\"\"\"Returns the fidelity between \n",
    "    the evolved state and the target \n",
    "    :math:`|0 \\rangle` state.\n",
    "    \n",
    "    Parameters:\n",
    "        phi (float): rotation angle for the\n",
    "            first rotation around the z-axis     \n",
    "        theta (float): rotation angle for\n",
    "            rotation around the y-axis\n",
    "        omega (float): rotation angle for the \n",
    "            second rotation around the z-axis    \n",
    "        ket (:obj:`jnp.array`): Initial ket\n",
    "            to act the rotation matrix on\n",
    "\n",
    "    Returns:\n",
    "        float: fidelity between the initial and\n",
    "            the evolved state under rotation    \n",
    "    \"\"\"\n",
    "    evolved = jnp.dot(rot(phi, theta, omega), ket)\n",
    "    return fidelity(evolved, basis(2, 0))[0][0]\n",
    "    #return jnp.absolute(jnp.vdot(evolved.T, basis(2, 0).full()))"
   ]
  },
  {
   "cell_type": "markdown",
   "metadata": {},
   "source": [
    "## Gradient Ascent Implementation\n",
    "\n",
    "Here we have our own gradient ascent \n",
    "implementation. One may use traditional\n",
    "gradient descent by subtracting fidelity\n",
    "from $1$ in the cost function. \n",
    "\n",
    "There are multiple \n",
    "parameters, like `epochs`, `alpha`, etc, \n",
    "that one might tune further in hopes of \n",
    "better convergence. For our purposes, however, \n",
    "we see that our implementation converges well \n",
    "in about $80$ crude steps."
   ]
  },
  {
   "cell_type": "code",
   "execution_count": 22,
   "metadata": {},
   "outputs": [
    {
     "name": "stdout",
     "output_type": "stream",
     "text": [
      "Epoch: 10.000000 | Fidelity: 0.294945\n",
      "Epoch: 20.000000 | Fidelity: 0.756419\n",
      "Epoch: 30.000000 | Fidelity: 0.961341\n",
      "Epoch: 40.000000 | Fidelity: 0.995116\n",
      "Epoch: 50.000000 | Fidelity: 0.999403\n",
      "Epoch: 60.000000 | Fidelity: 0.999927\n",
      "Epoch: 70.000000 | Fidelity: 0.999991\n",
      "Epoch: 80.000000 | Fidelity: 0.999999\n"
     ]
    }
   ],
   "source": [
    "# initialize parameters for descent\n",
    "epochs = 80\n",
    "alpha = 0.2  # learning rate\n",
    "weights = normal(PRNGKey(0), shape=(3,))\n",
    "init_ket = basis(2, 1) # initial |1> state\n",
    "der_cost = grad(cost, argnums=[0, 1, 2])\n",
    "state_hist = []\n",
    "\n",
    "for epoch in range(epochs):\n",
    "    der = jnp.asarray(der_cost(*weights, init_ket))\n",
    "    weights = weights + alpha * der\n",
    "    state_hist.append(Qobj(onp.dot(rot(*weights), init_ket)))\n",
    "    fidel = cost(*weights, init_ket)\n",
    "    progress = [epoch + 1, fidel]\n",
    "    if epoch % 10 == 9:\n",
    "        print(\"Epoch: {:2f} | Fidelity: {:3f}\".format(*jnp.asarray(progress)))"
   ]
  },
  {
   "cell_type": "code",
   "execution_count": null,
   "metadata": {},
   "outputs": [],
   "source": []
  }
 ],
 "metadata": {
  "kernelspec": {
   "display_name": "Python 3",
   "language": "python",
   "name": "python3"
  },
  "language_info": {
   "codemirror_mode": {
    "name": "ipython",
    "version": 3
   },
   "file_extension": ".py",
   "mimetype": "text/x-python",
   "name": "python",
   "nbconvert_exporter": "python",
   "pygments_lexer": "ipython3",
   "version": "3.6.9"
  },
  "varInspector": {
   "cols": {
    "lenName": 16,
    "lenType": 16,
    "lenVar": 40
   },
   "kernels_config": {
    "python": {
     "delete_cmd_postfix": "",
     "delete_cmd_prefix": "del ",
     "library": "var_list.py",
     "varRefreshCmd": "print(var_dic_list())"
    },
    "r": {
     "delete_cmd_postfix": ") ",
     "delete_cmd_prefix": "rm(",
     "library": "var_list.r",
     "varRefreshCmd": "cat(var_dic_list()) "
    }
   },
   "types_to_exclude": [
    "module",
    "function",
    "builtin_function_or_method",
    "instance",
    "_Feature"
   ],
   "window_display": false
  }
 },
 "nbformat": 4,
 "nbformat_minor": 2
}
