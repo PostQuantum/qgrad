{
 "cells": [
  {
   "cell_type": "markdown",
   "metadata": {},
   "source": [
    "# Introduction\n",
    "\n",
    "In this example, we shall try to learn an abitrary $8 \\times 8$ \n",
    "unitary matrix $U$, via gradient descent. We shall start with a \n",
    "random parametrized unitary matrix $U(\\vec{\\theta}, \\vec{\\phi}, \\vec{\\omega})$.\n",
    "\n",
    "Parametrized unitaries in `qgrad` are available via `Unitary` class\n",
    "with  $\\vec{\\theta}, \\vec{\\phi}, \\vec{\\omega}$ as parameter\n",
    "vectors with $\\vec{\\theta}, \\vec{\\phi}$ being $\\frac{(N) (N-1)}{2}$\n",
    "dimensional and $\\vec{\\omega})$ being $N$-dimensional.\n",
    "\n",
    "\n",
    "Here the input dataset consists of $8 \\times 1$ random \n",
    "kets, call them\n",
    "$| \\psi_{i} \\rangle$ and output dataset is the action of the \n",
    "target unitary $U$ on these kets, $U |\\psi_{i} \\rangle$. The \n",
    "maximum value of $i$ is $80$, meaning that we merely use 80\n",
    "data points (kets in this case) to efficiently learn the \n",
    "target unitary, $U$.\n",
    "\n",
    "\n",
    "This tutorial is different from the \n",
    "[Qubit Rotation](https://github.com/qgrad/qgrad/blob/master/examples/QubitRotation.py),\n",
    "in that it learns the unitary matrix to not only take a fixed _specific_\n",
    "state to another _fixed_ state. Here the unitary\n",
    "$U( \\vec{\\theta}, \\vec{\\phi}, \\vec{\\omega})$ is learnt to evolve _any_ same\n",
    "dimensional ket as the target unitary, $U$ would evolve it. \n",
    "\n",
    "\n",
    "**Note**: Another version of this tutorial is implemented \n",
    "without `qgrad` that uses the parametrization used in \n",
    "[Seth Lloyd and Reevu Maity, 2020](https://arxiv.org/pdf/1901.03431.pdf)\n",
    "and verifies the part of the results of that paper. This tutorial \n",
    "shows similar results, only with different unitary paramterization\n",
    "$U(\\vec{\\theta}, \\vec{\\phi}, \\vec{\\omega})$  since the\n",
    "parametrization used in the original paper \n",
    "uses hamiltonians \n",
    "in the powers of exponents, whose autodifferentiation is\n",
    "not currently supported in JAX. For further reading \n",
    "on this autodifferentiation incompatibility and unitary learning, \n",
    "please refer to companion blogs \n",
    "[here](https://araza6.github.io/posts/hamiltonian-differentiation/)\n",
    "and [here](https://araza6.github.io/posts/unitary-learning/) \n"
   ]
  },
  {
   "cell_type": "code",
   "execution_count": 23,
   "metadata": {},
   "outputs": [],
   "source": [
    "import jax.numpy as jnp\n",
    "from jax import grad\n",
    "from jax.experimental import optimizers\n",
    "from jax.random import PRNGKey, uniform\n",
    "\n",
    "import numpy as onp\n",
    "\n",
    "#Visualization\n",
    "import matplotlib.pyplot as plt \n",
    "\n",
    "from qgrad.qgrad_qutip import fidelity, Unitary\n",
    "\n",
    "from qutip import rand_ket # only to make the dataset\n",
    "\n",
    "from scipy.stats import unitary_group"
   ]
  },
  {
   "cell_type": "code",
   "execution_count": 12,
   "metadata": {},
   "outputs": [],
   "source": [
    "def make_dataset(m, d):\n",
    "    \"\"\"Prepares a dataset of input and output \n",
    "    kets to be used for training.\n",
    "    \n",
    "    Args:\n",
    "        m (int): Number of data points, 80% of \n",
    "            which would be used for training\n",
    "        d (int): Dimension of a (square) unitary\n",
    "            matrix to be approximated\n",
    "    \n",
    "    Returns:\n",
    "        tuple: tuple of lists containing (JAX Device\n",
    "            Arrays of) input and output kets \n",
    "            respectively\n",
    "    \"\"\"\n",
    "    ket_input = []\n",
    "    ket_output = []\n",
    "    for i in range(m):\n",
    "        ket_input.append(jnp.array(rand_ket(d, seed=300).full()))\n",
    "        #Output data -- action of unitary on a ket states\n",
    "        ket_output.append(jnp.dot(tar_unitr, ket_input[i]))  \n",
    "    \n",
    "    return (ket_input, ket_output)\n",
    "\n",
    "m = 100 # number of training data points\n",
    "N = 8 # Dimension of the unitary to be learnt\n",
    "train_len = int(m * 0.8)\n",
    "# tar_unitr gives a different unitary each time\n",
    "tar_unitr = jnp.asarray(unitary_group.rvs(N))\n",
    "ket_input, ket_output = make_dataset(m, N)"
   ]
  },
  {
   "cell_type": "markdown",
   "metadata": {},
   "source": [
    "# Cost Function\n",
    "\n",
    "We use the same cost function as the authors\n",
    "[Seth Lloyd and Reevu Maity, 2020](https://arxiv.org/pdf/1901.03431.pdf)\n",
    "define \n",
    "\n",
    "$\\begin{equation} \\label{err_ps}\n",
    "         E = 1 - (\\frac{1}{M})\\sum_{i} \\langle \\psi_{i}|U^{\\dagger} U(\\vec{\\theta}, \\vec{\\phi}, \\vec{\\omega})|\\psi_{i}\\rangle\n",
    " \\end{equation}$, \n",
    "\n",
    "where $ |\\psi_{i} \\rangle$ is the training (or testing) \n",
    "data points -- in this case, kets, $U$ and \n",
    "$U(\\vec{\\theta}, \\vec{\\phi}, \\vec{\\omega})$ are the target and\n",
    "parameterized unitaries respectively and $M$ is the total\n",
    "number of training data points, which in our example is\n",
    "$80$\n"
   ]
  },
  {
   "cell_type": "code",
   "execution_count": 13,
   "metadata": {},
   "outputs": [],
   "source": [
    "def cost(params, inputs, outputs):\n",
    "    r\"\"\"Calculates the cost on the whole \n",
    "        training dataset.\n",
    "    \n",
    "    Args:\n",
    "        params (obj:`jnp.ndarray`): parameter vectors \n",
    "            :math:`\\vec{\\theta}, \\vec{\\phi}, \n",
    "            \\vec{\\omega}`\n",
    "        inputs (obj:`jnp.ndarray`): input kets \n",
    "            :math:`|\\psi_{i} \\rangle`in the dataset\n",
    "        outputs (obj:`jnp.ndarray`): output kets \n",
    "            :math:`U(\\vec{\\theta}, \\vec{\\phi}, \n",
    "            \\vec{\\omega})|ket_{input} \\rangle` \n",
    "            in the dataset\n",
    "    \n",
    "    Returns:\n",
    "        float: Cost (evaluated on the entire dataset)\n",
    "            of parametrizing :math:`U(\\vec{\\theta}, \n",
    "            \\vec{\\phi}, \\vec{\\omega})` with `params`                  \n",
    "    \"\"\"\n",
    "    loss = 0.0\n",
    "    thetas, phis, omegas = params\n",
    "    unitary = Unitary(N)(thetas, phis, omegas)\n",
    "    for k in range(train_len):\n",
    "        pred = jnp.dot(unitary, inputs[k]) \n",
    "        loss += jnp.absolute(jnp.real(jnp.dot(outputs[k].conjugate().T, pred)))\n",
    "\n",
    "    loss = 1 - (1 / train_len) * loss\n",
    "    return loss[0][0]"
   ]
  },
  {
   "cell_type": "code",
   "execution_count": 14,
   "metadata": {},
   "outputs": [],
   "source": [
    "def test_score(params, inputs, outputs):\n",
    "    \"\"\"Calculates the average fidelity between the\n",
    "        predicted and output kets for given parameters\n",
    "        (averaged over the whole training set).\n",
    "       \n",
    "       Args:\n",
    "           params (obj:`jnp.ndarray`): parameter vectors \n",
    "               :math:`\\vec{\\theta}, \\vec{\\phi}, \\vec{\\omega}`\n",
    "           inputs (obj:`jnp.ndarray`): input kets \n",
    "               :math:`|\\psi_{l} \\rangle`in the dataset \n",
    "           outputs (obj:`jnp.ndarray`): output kets \n",
    "               :math:`U(\\vec{t}, \\vec{\\tau})|ket_{input} \\rangle`\n",
    "               in the dataset\n",
    "           \n",
    "       Returns:\n",
    "           float: fidelity between :math:`U(\\vec{\\theta}, \n",
    "               \\vec{\\phi}, \\vec{\\omega})|ket_{input} \\rangle`\n",
    "               and the output (label) kets for given `params`\n",
    "            \n",
    "       \"\"\"\n",
    "    fidel = 0\n",
    "    thetas, phis, omegas = params\n",
    "    unitary = Unitary(N)(thetas, phis, omegas)\n",
    "    for i in range(train_len):\n",
    "        pred = jnp.dot(unitary, inputs[i])\n",
    "        step_fidel = fidelity(pred, outputs[i])\n",
    "        fidel += step_fidel\n",
    "        \n",
    "    return (fidel / train_len)[0][0]"
   ]
  },
  {
   "cell_type": "code",
   "execution_count": 26,
   "metadata": {},
   "outputs": [
    {
     "name": "stdout",
     "output_type": "stream",
     "text": [
      "Epoch: 10.000000 | Loss: 0.061839 | Fidelity: 0.888217\n",
      "Epoch: 20.000000 | Loss: 0.014260 | Fidelity: 0.975306\n",
      "Epoch: 30.000000 | Loss: 0.006706 | Fidelity: 0.986648\n",
      "Epoch: 40.000000 | Loss: 0.002017 | Fidelity: 0.995984\n"
     ]
    }
   ],
   "source": [
    "# Fixed PRNGKeys to pick the same starting params\n",
    "params = uniform(PRNGKey(0), (N**2, ), \n",
    "                        minval=0.0, maxval=2 * jnp.pi)\n",
    "thetas = params[:N * (N-1) // 2]\n",
    "phis = params[N * (N - 1) // 2 : N * (N - 1)]\n",
    "omegas = params[N * (N - 1):]\n",
    "params = [thetas, phis, omegas]\n",
    "\n",
    "opt_init, opt_update, get_params = optimizers.adam(step_size=1e-1)\n",
    "opt_state = opt_init(params)\n",
    "\n",
    "def step(i, opt_state, opt_update):\n",
    "    params = get_params(opt_state)\n",
    "    g = grad(cost)(params, ket_input, ket_output)\n",
    "    return opt_update(i, g, opt_state)\n",
    "\n",
    "epochs = 40\n",
    "\n",
    "loss_hist = []\n",
    "params_hist = []\n",
    "fidel_hist = []\n",
    "\n",
    "for i in range(epochs):\n",
    "    opt_state = step(i, opt_state, opt_update)\n",
    "    params = get_params(opt_state)\n",
    "    params_hist.append(params)\n",
    "    loss = cost(params, ket_input, ket_output)\n",
    "    loss_hist.append(loss)\n",
    "    avg_fidel = test_score(params, ket_input, ket_output)\n",
    "    fidel_hist.append(avg_fidel)\n",
    "    progress = [i+1, loss, avg_fidel]\n",
    "    if (i % 10 == 9):\n",
    "        print(\"Epoch: {:2f} | Loss: {:3f} | Fidelity: {:3f}\".\n",
    "              format(*jnp.asarray(progress)))"
   ]
  },
  {
   "cell_type": "markdown",
   "metadata": {},
   "source": [
    "# Analyzing Learning Routine\n",
    "\n",
    "We see that we _efficiently_ (with $ \\sim 99 \\%$ \n",
    "fidelity) reconstruct the target unitary $U$ starting \n",
    "from a random initial guess. We merely use $80$\n",
    "examples for training, and in $40$ crude gradient\n",
    "steps, we almost perfectly approximate the target\n",
    "unitary, $U$. Below is a plot of how fidelity increases\n",
    "and loss gets down to zero in the training schedule.\n",
    "\n",
    "In the graph below, $M$ represents\n",
    "the total size of the train set, $\\psi_{label}$ \n",
    "represents the resulting (or the output)\n",
    "ket evolved under the target unitary, \n",
    "$U$ as $U |\\psi_{i} \\rangle$ and \n",
    "$\\psi_{pred}$ represents the ket $\\psi_{i}$\n",
    "evolved under \n",
    "$U(\\vec{\\theta}, \\vec{\\phi}, \\vec{\\omega})$\n",
    "as $ U(\\vec{\\theta}, \\vec{\\phi}, \\vec{\\omega}) | \\psi_{i} \\rangle$.\n",
    "\n",
    "Each marker on the graph is the fidelity between \n",
    "the predicted and the target/label kets averaged over the\n",
    "whole train set and the cost on whole training set\n",
    "respectively."
   ]
  },
  {
   "cell_type": "code",
   "execution_count": 27,
   "metadata": {},
   "outputs": [
    {
     "data": {
      "text/plain": [
       "<matplotlib.legend.Legend at 0x7ff0f4760400>"
      ]
     },
     "execution_count": 27,
     "metadata": {},
     "output_type": "execute_result"
    },
    {
     "data": {
      "image/png": "[encoded data removed]",
      "text/plain": [
       "<Figure size 648x432 with 1 Axes>"
      ]
     },
     "metadata": {
      "needs_background": "light"
     },
     "output_type": "display_data"
    }
   ],
   "source": [
    "plt.figure(figsize=(9, 6))\n",
    "\n",
    "plt.plot(fidel_hist, marker = 'o', \n",
    "         label=r\"$F = \\frac{1}{M}\\sum_{i}| \\langle \\psi_{label} | \\psi_{pred} \\rangle |^2$\")\n",
    "\n",
    "plt.plot(loss_hist, marker = 'x',\n",
    "        label=r'''$L = 1 - (\\frac{1}{M})\\sum_{i}\\langle \\psi_{i} | U ^{\\dagger} U( \\vec{\\theta}, \\vec{\\phi}, \\vec{\\omega)} | \\psi_{i} \\rangle$''')\n",
    "\n",
    "plt.title(\"Fidelity and Cost Trends\", fontweight = \"bold\")\n",
    "plt.legend([\"Fidelity\",\"Loss\"])\n",
    "plt.xlabel(\"epoch\")\n",
    "plt.legend(loc=0, prop = {'size': 15})"
   ]
  },
  {
   "cell_type": "markdown",
   "metadata": {},
   "source": [
    "# Testing on unseen kets\n",
    "\n",
    "We reserved the last $20$ kets for testing. Now we shall apply\n",
    "our learned unitary matrix, call it \n",
    "$U_{opt}(\\vec{\\theta}, \\vec{\\phi}, \\vec{\\omega})$\n",
    "to the unseen kets and measure the fidelity of the evolved ket\n",
    "under $U_{opt}(\\vec{\\theta}, \\vec{\\phi}, \\vec{\\omega})$ \n",
    "with those that evolved under the target unitary, $U$."
   ]
  },
  {
   "cell_type": "code",
   "execution_count": 22,
   "metadata": {},
   "outputs": [
    {
     "data": {
      "text/plain": [
       "[DeviceArray(0.98841643, dtype=float32),\n",
       " DeviceArray(0.98841643, dtype=float32),\n",
       " DeviceArray(0.98841643, dtype=float32),\n",
       " DeviceArray(0.98841643, dtype=float32),\n",
       " DeviceArray(0.98841643, dtype=float32),\n",
       " DeviceArray(0.98841643, dtype=float32),\n",
       " DeviceArray(0.98841643, dtype=float32),\n",
       " DeviceArray(0.98841643, dtype=float32),\n",
       " DeviceArray(0.98841643, dtype=float32),\n",
       " DeviceArray(0.98841643, dtype=float32),\n",
       " DeviceArray(0.98841643, dtype=float32),\n",
       " DeviceArray(0.98841643, dtype=float32),\n",
       " DeviceArray(0.98841643, dtype=float32),\n",
       " DeviceArray(0.98841643, dtype=float32),\n",
       " DeviceArray(0.98841643, dtype=float32),\n",
       " DeviceArray(0.98841643, dtype=float32),\n",
       " DeviceArray(0.98841643, dtype=float32),\n",
       " DeviceArray(0.98841643, dtype=float32),\n",
       " DeviceArray(0.98841643, dtype=float32),\n",
       " DeviceArray(0.98841643, dtype=float32)]"
      ]
     },
     "execution_count": 22,
     "metadata": {},
     "output_type": "execute_result"
    }
   ],
   "source": [
    "theta_opt, phi_opt, omega_opt = params_hist[-1]\n",
    "opt_unitary = Unitary(N)(theta_opt, phi_opt, omega_opt)\n",
    "fidel = []\n",
    "for i in range(train_len, m): # unseen data\n",
    "    pred = jnp.dot(opt_unitary, ket_input[i])\n",
    "    fidel.append(fidelity(pred, ket_output[i])[0][0])\n",
    "fidel"
   ]
  },
  {
   "cell_type": "markdown",
   "metadata": {},
   "source": [
    "# Conclusion\n",
    "\n",
    "We see that the testing fidelity is\n",
    "$\\sim 98 \\%$, as opposed to training \n",
    "fidelity $\\sim 99 \\%$. One would expect\n",
    "this since drop as the unitary now\n",
    "acts on unseen data. We, however, note\n",
    "that we generalize well with \n",
    "$\\sim 98 \\%$ accuracy, if you will. \n",
    "\n",
    "This learnt unitary\n",
    "$U_{opt}(\\vec{\\theta}, \\vec{\\phi}, \\vec{\\omega})$\n",
    "can now be used to emulate the original \n",
    "target unitary, $U$, for more general \n",
    "datasets as well."
   ]
  },
  {
   "cell_type": "markdown",
   "metadata": {},
   "source": [
    "# References\n",
    "1. Lloyd, Seth, and Reevu Maity. \"Efficient implementation of unitary transformations.\" arXiv preprint arXiv:1901.03431 (2019)."
   ]
  }
 ],
 "metadata": {
  "kernelspec": {
   "display_name": "Python 3",
   "language": "python",
   "name": "python3"
  },
  "language_info": {
   "codemirror_mode": {
    "name": "ipython",
    "version": 3
   },
   "file_extension": ".py",
   "mimetype": "text/x-python",
   "name": "python",
   "nbconvert_exporter": "python",
   "pygments_lexer": "ipython3",
   "version": "3.6.9"
  },
  "varInspector": {
   "cols": {
    "lenName": 16,
    "lenType": 16,
    "lenVar": 40
   },
   "kernels_config": {
    "python": {
     "delete_cmd_postfix": "",
     "delete_cmd_prefix": "del ",
     "library": "var_list.py",
     "varRefreshCmd": "print(var_dic_list())"
    },
    "r": {
     "delete_cmd_postfix": ") ",
     "delete_cmd_prefix": "rm(",
     "library": "var_list.r",
     "varRefreshCmd": "cat(var_dic_list()) "
    }
   },
   "types_to_exclude": [
    "module",
    "function",
    "builtin_function_or_method",
    "instance",
    "_Feature"
   ],
   "window_display": true
  }
 },
 "nbformat": 4,
 "nbformat_minor": 2
}
