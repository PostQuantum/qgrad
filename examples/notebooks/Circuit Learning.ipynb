{
 "cells": [
  {
   "cell_type": "code",
   "execution_count": 129,
   "metadata": {},
   "outputs": [],
   "source": [
    "from functools import reduce\n",
    "\n",
    "import jax.numpy as jnp\n",
    "from jax.random import PRNGKey, uniform\n",
    "from jax.experimental import optimizers\n",
    "from jax import grad\n",
    "\n",
    "from qutip import sigmaz\n",
    "\n",
    "import matplotlib.pyplot as plt\n",
    "\n",
    "from qgrad.qgrad_qutip import basis, expect, Unitary"
   ]
  },
  {
   "cell_type": "code",
   "execution_count": 130,
   "metadata": {},
   "outputs": [
    {
     "data": {
      "text/plain": [
       "'\\nN = 4 # 2 qubit ciruit\\nnum_params = N * (N - 1) // 2 \\nunitary = Unitary(4)\\n\\n# PRNGKey for reproducible results\\nthetas = uniform(PRNGKey(0), (num_params, ), minval=0,\\n                maxval= 2 * jnp.pi)\\nphis = uniform(PRNGKey(1), (num_params, ), minval=0,\\n                maxval= 2 * jnp.pi)\\nomegas = uniform(PRNGKey(2), (N, ), minval=0,\\n                maxval= 2 * jnp.pi)\\nrand_unitary = unitary(thetas, phis, omegas)\\n'"
      ]
     },
     "execution_count": 130,
     "metadata": {},
     "output_type": "execute_result"
    }
   ],
   "source": [
    "# Parametereized unitary not needed\n",
    "'''\n",
    "N = 4 # 2 qubit ciruit\n",
    "num_params = N * (N - 1) // 2 \n",
    "unitary = Unitary(4)\n",
    "\n",
    "# PRNGKey for reproducible results\n",
    "thetas = uniform(PRNGKey(0), (num_params, ), minval=0,\n",
    "                maxval= 2 * jnp.pi)\n",
    "phis = uniform(PRNGKey(1), (num_params, ), minval=0,\n",
    "                maxval= 2 * jnp.pi)\n",
    "omegas = uniform(PRNGKey(2), (N, ), minval=0,\n",
    "                maxval= 2 * jnp.pi)\n",
    "rand_unitary = unitary(thetas, phis, omegas)\n",
    "'''"
   ]
  },
  {
   "cell_type": "code",
   "execution_count": 131,
   "metadata": {},
   "outputs": [],
   "source": [
    "def rx(phi): \n",
    "    return jnp.array([[jnp.cos(phi / 2), -1j * jnp.sin(phi / 2)],\n",
    "                     [-1j * jnp.sin(phi / 2), jnp.cos(phi / 2)]])\n",
    "\n",
    "def ry(phi):\n",
    "    return jnp.array([[jnp.cos(phi / 2), -jnp.sin(phi / 2)],\n",
    "                     [jnp.sin(phi / 2), jnp.cos(phi / 2)]])\n",
    "\n",
    "\n",
    "def rz(phi):\n",
    "    return jnp.array([[jnp.exp(-1j * phi / 2), 0],\n",
    "                     [0, jnp.exp(1j * phi / 2)]])\n",
    "\n",
    "def cnot():\n",
    "    return jnp.array([[1, 0, 0, 0],\n",
    "                     [0, 1, 0, 0],\n",
    "                     [0, 0, 0, 1],\n",
    "                     [0, 0, 1, 0]],)\n"
   ]
  },
  {
   "cell_type": "code",
   "execution_count": 132,
   "metadata": {},
   "outputs": [],
   "source": [
    "def circuit(params):\n",
    "    \"\"\"Returns the state evolved by the parameterized circuit\"\"\"\n",
    "    thetax, thetay, thetaz = params\n",
    "    layer0 = jnp.kron(basis(2, 0), basis(2, 0))\n",
    "    layer1 = jnp.kron(ry(jnp.pi / 4), ry(jnp.pi / 4))\n",
    "    layer2 = jnp.kron(rx(thetax), jnp.eye(2))\n",
    "    layer3 = jnp.kron(ry(thetay), rz(thetaz))\n",
    "    layers = [layer1, cnot(), layer2, cnot(), layer3]\n",
    "    unitary = reduce(lambda  x, y : jnp.dot(x, y), layers)\n",
    "    return jnp.dot(unitary, layer0)"
   ]
  },
  {
   "cell_type": "code",
   "execution_count": 133,
   "metadata": {},
   "outputs": [],
   "source": [
    "# Measure pauli Z on the first qubit\n",
    "op = jnp.kron(jnp.array(sigmaz().full()), jnp.eye(2))\n",
    "\n",
    "def cost(params, op):\n",
    "    state = circuit(params)\n",
    "    return jnp.real(expect(op, state))"
   ]
  },
  {
   "cell_type": "code",
   "execution_count": 134,
   "metadata": {},
   "outputs": [
    {
     "name": "stdout",
     "output_type": "stream",
     "text": [
      "Epoch: 100.000000 | Loss: -0.707132\n",
      "Epoch: 200.000000 | Loss: -0.713067\n",
      "Epoch: 300.000000 | Loss: -0.985571\n",
      "Epoch: 400.000000 | Loss: -1.000000\n"
     ]
    }
   ],
   "source": [
    "init_params = [jnp.pi / 3., jnp.pi / 3., jnp.pi / 3.] # random initialization\n",
    "opt_init, opt_update, get_params = optimizers.adam(step_size=1e-2)\n",
    "opt_state = opt_init(init_params)\n",
    "\n",
    "def step(i, opt_state, opt_update):\n",
    "    params = get_params(opt_state)\n",
    "    g = grad(cost)(params, op)\n",
    "    return opt_update(i, g, opt_state)\n",
    "\n",
    "epochs = 400\n",
    "loss_hist = []\n",
    "\n",
    "for epoch in range(epochs):\n",
    "    opt_state = step(epoch, opt_state, opt_update)\n",
    "    params = get_params(opt_state)\n",
    "    loss = cost(params, op)\n",
    "    loss_hist.append(loss)\n",
    "    progress = [epoch+1, loss]\n",
    "    if (epoch % 100 == 99):\n",
    "        print(\"Epoch: {:2f} | Loss: {:3f}\".format(*jnp.asarray(progress)))"
   ]
  },
  {
   "cell_type": "code",
   "execution_count": 135,
   "metadata": {},
   "outputs": [
    {
     "data": {
      "text/plain": [
       "Text(0.5, 0, 'epochs')"
      ]
     },
     "execution_count": 135,
     "metadata": {},
     "output_type": "execute_result"
    },
    {
     "data": {
      "image/png": "[encoded data removed]",
      "text/plain": [
       "<Figure size 432x288 with 1 Axes>"
      ]
     },
     "metadata": {
      "needs_background": "light"
     },
     "output_type": "display_data"
    }
   ],
   "source": [
    "plt.plot(loss_hist)\n",
    "plt.ylabel(\"Loss\")\n",
    "plt.xlabel(\"epochs\")"
   ]
  },
  {
   "cell_type": "code",
   "execution_count": null,
   "metadata": {},
   "outputs": [],
   "source": []
  }
 ],
 "metadata": {
  "kernelspec": {
   "display_name": "Python 3",
   "language": "python",
   "name": "python3"
  },
  "language_info": {
   "codemirror_mode": {
    "name": "ipython",
    "version": 3
   },
   "file_extension": ".py",
   "mimetype": "text/x-python",
   "name": "python",
   "nbconvert_exporter": "python",
   "pygments_lexer": "ipython3",
   "version": "3.6.9"
  },
  "varInspector": {
   "cols": {
    "lenName": 16,
    "lenType": 16,
    "lenVar": 40
   },
   "kernels_config": {
    "python": {
     "delete_cmd_postfix": "",
     "delete_cmd_prefix": "del ",
     "library": "var_list.py",
     "varRefreshCmd": "print(var_dic_list())"
    },
    "r": {
     "delete_cmd_postfix": ") ",
     "delete_cmd_prefix": "rm(",
     "library": "var_list.r",
     "varRefreshCmd": "cat(var_dic_list()) "
    }
   },
   "types_to_exclude": [
    "module",
    "function",
    "builtin_function_or_method",
    "instance",
    "_Feature"
   ],
   "window_display": false
  }
 },
 "nbformat": 4,
 "nbformat_minor": 2
}
