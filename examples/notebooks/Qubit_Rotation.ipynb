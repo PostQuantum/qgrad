{
 "cells": [
  {
   "cell_type": "markdown",
   "metadata": {},
   "source": [
    "# Basic Qubit Rotation Example  \n",
    "\n",
    "In this example, we show how we can use a \n",
    "simple gradient descent method to optimize\n",
    "a unitary gate for qubit rotation. The idea \n",
    "is as follows: We start in $|1 \\rangle$ state\n",
    "on a Bloch Sphere and apply rotations around \n",
    "Z-Y-Z axes (in that order) using \n",
    "$R(\\phi,\\theta,\\omega)$, which is a \n",
    "general unitary operator parameterized \n",
    "by three real parameters, $\\phi$, $\\theta$, \n",
    "and $\\omega$. Each of these parameters represent \n",
    "the degree of rotation around x, y and z axes \n",
    "respectively to reach the target state, \n",
    "which is defined to be $|0 \\rangle$ in \n",
    "this case. $R(\\phi,\\theta,\\omega)$ has\n",
    "the following matrix representation:\n",
    "\n",
    "\n",
    "$$\n",
    "R(\\phi,\\theta,\\omega) = RZ(\\omega)RY(\\theta)RZ(\\phi)= \\begin{bmatrix}\n",
    "e^{-i(\\phi+\\omega)/2}\\cos(\\theta/2) & -e^{i(\\phi-\\omega)/2}\\sin(\\theta/2) \\\\\n",
    "e^{-i(\\phi-\\omega)/2}\\sin(\\theta/2) & e^{i(\\phi+\\omega)/2}\\cos(\\theta/2)\n",
    "\\end{bmatrix}\n",
    "$$"
   ]
  },
  {
   "cell_type": "code",
   "execution_count": 1,
   "metadata": {},
   "outputs": [],
   "source": [
    "import jax.numpy as jnp\n",
    "from jax import grad\n",
    "from jax.random import normal, PRNGKey\n",
    "\n",
    "import numpy as onp\n",
    "\n",
    "from qutip import fidelity, Qobj, basis, Bloch"
   ]
  },
  {
   "cell_type": "code",
   "execution_count": 4,
   "metadata": {},
   "outputs": [],
   "source": [
    "def rot(phi, theta, omega):\n",
    "    \"\"\"Returns a rotation matrix charachterzing\n",
    "    rotation around Z-Y-Z axis.\n",
    "    \n",
    "    Parameters:\n",
    "        phi (float): rotation angle for the\n",
    "            first rotation around the z-axis     \n",
    "        theta (float): rotation angle for\n",
    "            rotation around the y-axis\n",
    "        omega (float): rotation angle for the \n",
    "            second rotation around the z-axis\n",
    "        \n",
    "    Returns:\n",
    "        :obj:`jnp.ndarray`: array representing \n",
    "            the rotation matrix \n",
    "             \n",
    "    \"\"\"\n",
    "\n",
    "    cos = jnp.cos(theta / 2)\n",
    "    sin = jnp.sin(theta / 2)\n",
    "\n",
    "    return jnp.array(\n",
    "        [\n",
    "            [\n",
    "                jnp.exp(-0.5j * (phi + omega)) * cos,\n",
    "                -(jnp.exp(0.5j * (phi - omega))) * sin,\n",
    "            ],\n",
    "            [\n",
    "                jnp.exp(-0.5j * (phi - omega)) * sin, \n",
    "                jnp.exp(0.5j * (phi + omega)) * cos],\n",
    "            ]\n",
    "    )"
   ]
  },
  {
   "cell_type": "code",
   "execution_count": null,
   "metadata": {},
   "outputs": [],
   "source": []
  }
 ],
 "metadata": {
  "kernelspec": {
   "display_name": "Python 3",
   "language": "python",
   "name": "python3"
  },
  "language_info": {
   "codemirror_mode": {
    "name": "ipython",
    "version": 3
   },
   "file_extension": ".py",
   "mimetype": "text/x-python",
   "name": "python",
   "nbconvert_exporter": "python",
   "pygments_lexer": "ipython3",
   "version": "3.6.9"
  },
  "varInspector": {
   "cols": {
    "lenName": 16,
    "lenType": 16,
    "lenVar": 40
   },
   "kernels_config": {
    "python": {
     "delete_cmd_postfix": "",
     "delete_cmd_prefix": "del ",
     "library": "var_list.py",
     "varRefreshCmd": "print(var_dic_list())"
    },
    "r": {
     "delete_cmd_postfix": ") ",
     "delete_cmd_prefix": "rm(",
     "library": "var_list.r",
     "varRefreshCmd": "cat(var_dic_list()) "
    }
   },
   "types_to_exclude": [
    "module",
    "function",
    "builtin_function_or_method",
    "instance",
    "_Feature"
   ],
   "window_display": false
  }
 },
 "nbformat": 4,
 "nbformat_minor": 2
}
