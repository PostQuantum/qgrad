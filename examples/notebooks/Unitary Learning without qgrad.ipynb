{
 "cells": [
  {
   "cell_type": "markdown",
   "metadata": {},
   "source": [
    "# Introduction and background\n",
    " \n",
    " **Disclaimer:** This tutorial does not use `qgrad`. The intention is to show follow this tutorial with another one _using_ `qgrad` to show to how easier things are with qgrad.\n",
    " \n",
    " In this tutorial, we aim to learn unitary matrices using gradient descent. The tutorial reproduces [Lloyd et al.](https://arxiv.org/abs/1901.03431) and [Bobak et al.](https://arxiv.org/abs/2001.11897), and follows similar formalism as introduced in the two papers.\n",
    " \n",
    " For a target unitary matrix, $U$, we intend to find optimal parameter vectors for the parameterized unitary $U(\\vec{t}, \\vec{\\tau})$, such that $U(\\vec{t}, \\vec{\\tau})$ approximates $U$ as closely as possible. Here, \n",
    " \n",
    " \\begin{equation}\\label{decomp}\n",
    "     U(\\vec{t}, \\vec{\\tau}) = e^{-iB\\tau_{N}}e^{-iAt_{N}} ... e^{-iB\\tau_{1}}e^{-iAt_{1}}\n",
    " \\end{equation}\n",
    " \n",
    "where $\\vec{t}$ and $\\vec{\\tau}$ are paramter vectors of size $N$."
   ]
  },
  {
   "cell_type": "code",
   "execution_count": 1,
   "metadata": {},
   "outputs": [],
   "source": [
    "import matplotlib.pyplot as plt \n",
    "import numpy as np\n",
    "import tenpy \n",
    "from qutip import fidelity, Qobj, rand_ket\n",
    "from scipy.stats import unitary_group\n",
    "from scipy.linalg import expm"
   ]
  },
  {
   "cell_type": "code",
   "execution_count": 35,
   "metadata": {},
   "outputs": [],
   "source": [
    "def make_dataset(m, d):\n",
    "    r\"\"\"Prepares a dataset of input and output kets to be used for training.\n",
    "    \n",
    "    Args:\n",
    "    ----\n",
    "        m (int): Number of data points, 80% of which would be used for training\n",
    "        d (int): Dimension of a (square) unitary matrix to be approximated\n",
    "    \n",
    "    Returns:\n",
    "    --------\n",
    "        data_points (tuple): tuple of lists containing (numpy arrays of) input and output kets respectively.\n",
    "    \"\"\"\n",
    "    ket_input = []\n",
    "    ket_output = [] \n",
    "    for i in range(m):\n",
    "        ket_input.append(rand_ket(d, seed=300).full())\n",
    "        ket_output.append(np.matmul(tar_unitr, ket_input[i]))  #Output data -- action of unitary on a ket states\n",
    "    \n",
    "    return (ket_input, ket_output)\n",
    "\n",
    "m = 100 # number of training data points\n",
    "train_len = int(m * 0.8)\n",
    "d = 2 #dimension of unitary \n",
    "N = 4 #size of parameter vectors tau and t\n",
    "tar_unitr = unitary_group.rvs(d)  # Fixed random d-dimensional target unitary matrix that we want to learn                                          \n",
    "res = make_dataset(m, d)\n",
    "ket_input, ket_output = res[0], res[1]"
   ]
  },
  {
   "cell_type": "markdown",
   "metadata": {},
   "source": [
    "# Recipe for making $U(\\vec{t}, \\vec{\\tau})$\n",
    " \n",
    " We make $U(\\vec{t}, \\vec{\\tau})$ by repeated application of $e^{-iB\\tau_{k}}e^{-iAt_{k}}$ at k-th step. We multiply $e^{-iB\\tau_{k}}e^{-iAt_{k}}$ in a [QAOA](https://arxiv.org/abs/1411.4028) like fashion $N$ times, where N is the dimension of $\\vec{t}$ and $\\vec{\\tau}$. Higher N $\\rightarrow$ better approximation.\n",
    " \n",
    "[Lloyd et al.](https://arxiv.org/abs/1901.03431) and [Bobak et al.](https://arxiv.org/abs/2001.11897), matrices $A$ and $B$ are chosen from a Gaussian Unitary Ensemble (GUE). We use `tenpy` to sample $A$ and $B$ from GUE.\n"
   ]
  },
  {
   "cell_type": "code",
   "execution_count": 36,
   "metadata": {},
   "outputs": [],
   "source": [
    "A = tenpy.linalg.random_matrix.GUE((d,d)) # tenpy for sampling A and B from GUE\n",
    "B = tenpy.linalg.random_matrix.GUE((d,d)) "
   ]
  },
  {
   "cell_type": "code",
   "execution_count": 37,
   "metadata": {},
   "outputs": [],
   "source": [
    "def make_unitary(N, params):\n",
    "    r\"\"\"Returns a paramterized unitary matrix.\n",
    "    \n",
    "    : math:: \\begin{equation}\\label{decomp}\n",
    "                U(\\vec{t}, \\vec{\\tau}) = e^{-iB\\tau_{N}}e^{-iAt_{N}} ... e^{-iB\\tau_{1}}e^{-iAt_{1}}\n",
    "             \\end{equation}\n",
    "             \n",
    "    Args:\n",
    "    ----\n",
    "        N (int): Size of the parameter vectors, :math:`\\tau` and :math:`\\t`\n",
    "        params (:obj:`np.ndarray`): parameter vector of size :math:`2 * N` where the first half parameters are  \n",
    "                                   :math:`\\vec{t}` params and the second half encodes \\vec{\\tau}) parameters.\n",
    "                                   \n",
    "    Returns:\n",
    "        unitary (:obj:`np.ndarray`): numpy array representation of paramterized unitary matrix \n",
    "    \"\"\"\n",
    "    unitary = np.eye(d)\n",
    "    for i in range (N): \n",
    "        unitary = np.matmul(np.matmul(expm(-1j*B*params[i+N][0]),expm(-1j*A*params[i][0])), unitary)\n",
    "    \n",
    "    return unitary \n"
   ]
  },
  {
   "cell_type": "markdown",
   "metadata": {},
   "source": [
    "# Criteria for learnability -- the cost function\n",
    " The cost function formulation of gradient descent learning is defined by the authors is as follows:\n",
    " \n",
    " $\\begin{equation} \\label{err_ps}\n",
    "         E = 1 - (\\frac{1}{M})\\sum_{l} \\langle \\psi_{l}|U^{\\dagger} U(\\vec{t},\\vec{\\tau})|\\psi_{l}\\rangle\n",
    " \\end{equation}$, \n",
    " \n",
    " where $ |\\psi_{l}>$ is the training (or testing) data points -- in this case, kets. We implement the same formulation below.\n"
   ]
  },
  {
   "cell_type": "code",
   "execution_count": 38,
   "metadata": {},
   "outputs": [],
   "source": [
    "def cost(params, inputs, outputs):\n",
    "    r\"\"\"Calculates the cost/error on the whole training datat set.\n",
    "    \n",
    "    Args:\n",
    "    ----\n",
    "        params: parameters :math:`\\t` and :math:`\\tau` in :math:`U^{\\dagger} U(\\vec{t},\\vec{\\tau})`\n",
    "        inputs: input kets :math:`|\\psi_{l}>` in the dataset \n",
    "        outputs: output kets :math:`U(\\vec{t}, \\vec{\\tau})*|ket\\_input>` in the dataset\n",
    "    \n",
    "    Returns:\n",
    "    -------\n",
    "        cost (float): cost (evaluated on the enitre dataset) of parametrizing \n",
    "                     :math:`\\tau` in :math:`U^{\\dagger} U(\\vec{t},\\vec{\\tau})` with `params`                  \n",
    "    \"\"\"\n",
    "    loss = 0.0\n",
    "    for k in range(train_len): \n",
    "        pred = np.matmul(make_unitary(N, params), inputs[k]) #prediction wth parametrized unitary\n",
    "        loss += np.absolute(np.real(np.matmul(outputs[k].conjugate().T, pred)))\n",
    "        # TODO check real and abs in loss above since   \n",
    "        # it's not in the original paper\n",
    "    return 1 - (1 / train_len) * loss "
   ]
  },
  {
   "cell_type": "markdown",
   "metadata": {},
   "source": [
    "# Differentation of the cost function\n",
    " \n",
    " Gradient descent is a first order method, so one definitely needs to take the derivative of the cost function. Analytically, the gradient of above error term, or the cost function, is \n",
    " \n",
    " $ \n",
    " \\begin{equation}\n",
    "     \\frac{\\partial}{\\partial \\tau_{k}}E(\\vec{t},\\vec{\\tau}) = -\\frac{1}{M}\\sum_{l} \\langle \\psi_{l}|U^{\\dagger}[e^{-iAt_{N}}e^{-iB\\tau_{N}} ... (-iB)e^{-iB\\tau_{k}}e^{-iAt_{k}} ... e^{-iB\\tau_{1}}e^{-iAt_{1}}]|\\psi_{l}\\rangle\n",
    " \\end{equation}\n",
    " $\n",
    " "
   ]
  },
  {
   "cell_type": "code",
   "execution_count": 39,
   "metadata": {},
   "outputs": [],
   "source": [
    "def der_cost(params, inputs, outputs):\n",
    "    \"\"\" Calculates the numerical derivative of the cost w.r.t to each parameter\"\"\"\n",
    "    grad = [] \n",
    "    for i in range(params.shape[0]):\n",
    "        eps = np.zeros((params.shape[0], 1))\n",
    "        eps[i] = eps[i] + 1e-3\n",
    "        grad.append((cost(params+eps, inputs, outputs)\n",
    "                     - cost(params, inputs, outputs)) / 1e-3)\n",
    "    return np.array(grad).reshape(params.shape[0], 1)"
   ]
  },
  {
   "cell_type": "markdown",
   "metadata": {},
   "source": [
    "# Performance Metric -- fidelity\n",
    " \n",
    "While cost is a valid metric to judge the learnability. We introduce another (commonly used) metric, fidelty between the predicted and the output (label) states as a sanity check."
   ]
  },
  {
   "cell_type": "code",
   "execution_count": 40,
   "metadata": {},
   "outputs": [],
   "source": [
    "def test_score(params, x, y):\n",
    "    \"\"\"Calculates the avergage fidelity between the predicted and output kets for a given \n",
    "       on the whole dataset.\n",
    "       \n",
    "       Args:\n",
    "       ----\n",
    "           params: parameters :math:`\\t` and :math:`\\tau` in :math:`U^{\\dagger} U(\\vec{t},\\vec{\\tau})`\n",
    "           x: input kets :math:`|\\psi_{l}>` in the dataset \n",
    "           y: output kets :math:`U(\\vec{t}, \\vec{\\tau})*|ket\\_input>` in the dataset\n",
    "           \n",
    "       Returns:\n",
    "       -------\n",
    "           fidel (float): fidelity between :math:`U(\\vec{t}, \\vec{\\tau})*|ket\\_input>` and\n",
    "                          the output (label) kets for parameters :math:`\\vec{t}, \\vec{\\tau}`\n",
    "                          averaged over the entire training set.\n",
    "       \"\"\"\n",
    "    fidel = 0\n",
    "    for i in range(train_len):\n",
    "        pred = np.matmul(make_unitary(N, params), x[i])\n",
    "        step_fidel = fidelity(Qobj(pred), Qobj(y[i]))\n",
    "        fidel += step_fidel\n",
    "        \n",
    "        \n",
    "    return fidel / train_len"
   ]
  },
  {
   "cell_type": "markdown",
   "metadata": {},
   "source": [
    "# Gradient Descent Implementation\n",
    " \n",
    " We implement gradient descent based on \n",
    " \n",
    " $\\begin{equation} \\label{gd}\n",
    "     t_{k} = t_{k} - \\alpha \\frac{\\partial}{\\partial t_{k}}E(\\vec{t},\\vec{\\tau})\n",
    " \\end{equation}$\n",
    "  for a single parameter $t_{k}$, where $\\alpha$ is the learning rate. "
   ]
  },
  {
   "cell_type": "code",
   "execution_count": 41,
   "metadata": {},
   "outputs": [
    {
     "name": "stdout",
     "output_type": "stream",
     "text": [
      "Epoch: 10.000000 | Loss: 0.087398 | Fidelity: 0.913605\n",
      "Epoch: 20.000000 | Loss: 0.010100 | Fidelity: 0.990082\n",
      "Epoch: 30.000000 | Loss: 0.001065 | Fidelity: 0.998963\n",
      "Epoch: 40.000000 | Loss: 0.000109 | Fidelity: 0.999895\n"
     ]
    }
   ],
   "source": [
    "epochs = 40\n",
    "alpha = 1e-1\n",
    "loss_hist = []\n",
    "fidel_hist = []\n",
    "params_hist = []\n",
    "np.random.seed(340)\n",
    "weights = np.random.rand(2 * N, 1)\n",
    "\n",
    "for epoch in range(epochs):\n",
    "    weights = weights - alpha * (der_cost(weights, ket_input, ket_output))\n",
    "    loss = cost(weights, ket_input, ket_output).item() # convert numpy (1,1) array to native python float\n",
    "    avg_fidel = test_score(weights, ket_input, ket_output)\n",
    "    progress = [epoch+1, loss, avg_fidel]\n",
    "    loss_hist.append(loss)\n",
    "    fidel_hist.append(avg_fidel)\n",
    "    params_hist.append(weights)\n",
    "    if ((epoch) % 10 == 9):\n",
    "        print(\"Epoch: {:2f} | Loss: {:3f} | Fidelity: {:3f}\".format(*np.asarray(progress)))\n",
    "    \n",
    "opt_params = weights"
   ]
  },
  {
   "cell_type": "markdown",
   "metadata": {},
   "source": [
    "# Efficient reconstruction of the target unitary\n",
    "The papers claim that if the dimension, N, of the parameters is of order $O(d^{2})$, where $d$ is the dimension of the unitary, then $U(\\vec{t},\\vec{\\tau})$ is constructed _efficiently_. We verify this claim with $d = 2$ and $N = 5$. Fidelity can be further improved, and loss reduced, if training is carried on for a greater number of epochs and the learning rate $\\alpha$ is tuned further."
   ]
  },
  {
   "cell_type": "code",
   "execution_count": 13,
   "metadata": {},
   "outputs": [
    {
     "data": {
      "text/plain": [
       "<matplotlib.legend.Legend at 0x7f35fb2e6898>"
      ]
     },
     "execution_count": 13,
     "metadata": {},
     "output_type": "execute_result"
    },
    {
     "data": {
      "image/png": "[encoded data removed]",
      "text/plain": [
       "<Figure size 648x432 with 1 Axes>"
      ]
     },
     "metadata": {
      "needs_background": "light"
     },
     "output_type": "display_data"
    }
   ],
   "source": [
    "plt.figure(figsize=(9, 6))\n",
    "plt.plot(range(epochs), np.asarray(fidel_hist).ravel(), marker = 'o', \n",
    "         label=r\"$F = \\frac{1}{M}\\sum_{l}| \\langle \\psi_{in} | \\psi_{pred} \\rangle |^2$\")\n",
    "plt.plot( range(epochs), np.asarray(loss_hist).ravel(), marker = 'x',\n",
    "        label=r\"$L = 1 - (\\frac{1}{M})\\sum_{l}\\langle \\psi_{l} | U ^{\\dagger} U(\\vec{t},\\vec{\\tau}) | \\psi_{l} \\rangle$\")\n",
    "plt.title(\"Fidelity and Cost Trends\", fontweight = \"bold\")\n",
    "plt.legend([\"Fidelity\",\"Loss\"])\n",
    "plt.xlabel(\"epoch\")\n",
    "plt.legend(loc=0, prop = {'size': 15})"
   ]
  },
  {
   "cell_type": "markdown",
   "metadata": {},
   "source": [
    " We would expect the average fidelity, $F$, to increase since we defined fidelity to be between $U(\\vec{t}, \\vec{\\tau})*|ket\\_input>$ and the output (label) kets for parameters $\\vec{t}, \\vec{\\tau}$ averaged over the entire training set. The expected pattern is reflected in the training graph above with the loss, $L$, is the cost that we aim to minimize decreasing progressively. Slight dips in the graph maybe due to non-convex landscape of the cost function as authors report in the paper.\n",
    "\n",
    "# Testing on the unseen kets\n",
    " \n",
    "We reserved $20 \\%$ of the kets for testing. Another metric we can use to evaluate learnability is to compare the fidelities of the kets $|\\psi_{l}>$ acted on by the target unitary, U,  like $U |\\psi_{l}>$ with the fidelity of the ket obtained by acting $U(\\vec{t}, \\vec{\\tau})$ on the same $|\\psi_{l}>$ like $U(\\vec{t}, \\vec{\\tau})*|\\psi_{l}>$, where $|\\psi_{l}>$ is a ket in the test data\n",
    " "
   ]
  },
  {
   "cell_type": "code",
   "execution_count": 14,
   "metadata": {},
   "outputs": [],
   "source": [
    "opt_unitary = make_unitary(N, opt_params)\n",
    "fidel = []\n",
    "for i in range(train_len, m): # unseen data\n",
    "    pred = np.matmul(opt_unitary, ket_input[i])\n",
    "    fidel.append(fidelity(Qobj(pred), Qobj(ket_output[i])))"
   ]
  },
  {
   "cell_type": "code",
   "execution_count": 15,
   "metadata": {},
   "outputs": [
    {
     "data": {
      "text/plain": [
       "Text(0, 0.5, 'Fidelity between output ket and evolved ket')"
      ]
     },
     "execution_count": 15,
     "metadata": {},
     "output_type": "execute_result"
    },
    {
     "data": {
      "image/png": "[encoded data removed]",
      "text/plain": [
       "<Figure size 432x288 with 1 Axes>"
      ]
     },
     "metadata": {
      "needs_background": "light"
     },
     "output_type": "display_data"
    }
   ],
   "source": [
    "plt.plot(range(len(fidel)), fidel)\n",
    "plt.ylim(-2, 2)\n",
    "plt.xlabel(\"Test ket\")\n",
    "plt.ylabel(\"Fidelity between output ket and evolved ket\")"
   ]
  },
  {
   "cell_type": "markdown",
   "metadata": {},
   "source": [
    "# Conclusion\n",
    " \n",
    "The learned unitary matrix, $U(\\vec{t}, \\vec{\\tau})$, almost perfectly reconstructs the target unitary, $U$, in the sense that the way $U$ evolves a ket $|\\psi_{l}>$, $U(\\vec{t}, \\vec{\\tau})$ also evovles $|\\psi_{l}>$ in about the same way. This can be seen in the graph above that the fidelities between states evolved by $U(\\vec{t}, \\vec{\\tau})$ and $U$ are almost perfect. \n"
   ]
  }
 ],
 "metadata": {
  "kernelspec": {
   "display_name": "Python 3",
   "language": "python",
   "name": "python3"
  },
  "language_info": {
   "codemirror_mode": {
    "name": "ipython",
    "version": 3
   },
   "file_extension": ".py",
   "mimetype": "text/x-python",
   "name": "python",
   "nbconvert_exporter": "python",
   "pygments_lexer": "ipython3",
   "version": "3.6.9"
  },
  "varInspector": {
   "cols": {
    "lenName": 16,
    "lenType": 16,
    "lenVar": 40
   },
   "kernels_config": {
    "python": {
     "delete_cmd_postfix": "",
     "delete_cmd_prefix": "del ",
     "library": "var_list.py",
     "varRefreshCmd": "print(var_dic_list())"
    },
    "r": {
     "delete_cmd_postfix": ") ",
     "delete_cmd_prefix": "rm(",
     "library": "var_list.r",
     "varRefreshCmd": "cat(var_dic_list()) "
    }
   },
   "types_to_exclude": [
    "module",
    "function",
    "builtin_function_or_method",
    "instance",
    "_Feature"
   ],
   "window_display": true
  }
 },
 "nbformat": 4,
 "nbformat_minor": 2
}
