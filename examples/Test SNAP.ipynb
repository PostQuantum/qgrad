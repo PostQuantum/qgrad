{
 "cells": [
  {
   "cell_type": "code",
   "execution_count": 5,
   "metadata": {},
   "outputs": [],
   "source": [
    "from qgrad.qgrad_qutip import basis, to_dm, dag, Displace, fidelity\n",
    "import jax.numpy as jnp\n",
    "from jax import grad, jit\n",
    "from functools import reduce\n",
    "import matplotlib.pyplot as plt"
   ]
  },
  {
   "cell_type": "code",
   "execution_count": 6,
   "metadata": {},
   "outputs": [],
   "source": [
    "def pad_thetas(hilbert_size, thetas):\n",
    "    \"\"\"\n",
    "    Pads zeros to the end of a theta vector to fill it upto the Hilbert space cuttoff\n",
    "    \n",
    "    Args:\n",
    "    -----\n",
    "        hilbert_size (int): Size of the hilbert space\n",
    "        thetas (:obj:`jnp.ndarray`): List of angles thetas\n",
    "    \n",
    "    Returns:\n",
    "    --------\n",
    "        thetas (:obj:`jnp.ndarray`): List of angles padded with zeros in place of Hilbert space cutoff\n",
    "\n",
    "    \"\"\"\n",
    "    if len(thetas) != hilbert_size:\n",
    "        thetas = jnp.pad(thetas, (0, hilbert_size - len(thetas)), mode=\"constant\")\n",
    "    return thetas\n",
    "\n",
    "def snap(hilbert_size, thetas):\n",
    "    \"\"\"\n",
    "    SNAP gate matrix\n",
    "    \n",
    "    Args:\n",
    "    -----\n",
    "        hilbert_size (int): Hilbert space cuttoff\n",
    "        thetas (:obj:`jnp.ndarray`): A vector of theta values to apply SNAP operation\n",
    "    \n",
    "    Returns:\n",
    "    --------\n",
    "        op (:obj:`jnp.ndarray`): matrix representing the SNAP gate\n",
    "    \"\"\"\n",
    "    thetas = pad_thetas(hilbert_size, thetas)\n",
    "    op = 0 * jnp.eye(hilbert_size)\n",
    "    for i, theta in enumerate(thetas):\n",
    "        op += jnp.exp(1j * theta) * to_dm(basis(hilbert_size, i))\n",
    "    return op"
   ]
  },
  {
   "cell_type": "code",
   "execution_count": 7,
   "metadata": {},
   "outputs": [],
   "source": [
    "N = 10 # dimension of Fock space\n",
    "alphas = jnp.array([1., 0.5, 1.], dtype=complex)\n",
    "theta1, theta2, theta3 = [0.5], [0.5, 0, -1.5], [0.5, -1.5j, 0.2j] \n",
    "# NOTE: No input values to JAX differentiable functions should be int                                  \n",
    "theta1, theta2, theta3 = pad_thetas(N, theta1), pad_thetas(N, theta2), pad_thetas(N, theta3)\n"
   ]
  },
  {
   "cell_type": "code",
   "execution_count": 30,
   "metadata": {},
   "outputs": [],
   "source": [
    "displace = Displace(N)\n",
    "\n",
    "def add_blocks(initial, T, hilbert_size, params):\n",
    "    \"\"\"Applies T blocks of operators to the initial state, where each of the T blocks is\n",
    "       a collection of operators, \n",
    "\n",
    "           :: math : `D(\\alpha) SNAP(\\theta) D(-\\alpha),\n",
    "   \n",
    "       where :math:`D(\\alpha)` is the displacement operator with displacement :math:`alpha` \n",
    "       and :math:`SNAP(\\theta)` is the SNAP gate with parameter vector :math:`\\theta` of length N, \n",
    "       the size of the Hilbert space.\n",
    "\n",
    "    Args:\n",
    "    ------\n",
    "        initial (jnp.ndarray): initial state to apply blocks on (ket |0> in our case)\n",
    "        T (int): number of blocks to apply\n",
    "        hilbert_size (int): Size of the Hilbert space\n",
    "        params (jnp.ndarray): parameter array of alphas and that's of size :math: `T * hilbert_size + T`, \n",
    "        wherein the first T parameters are alphas and the rest are T hilbert_size-dimensional vectors \n",
    "        representing corresponding theta vectors.\n",
    "\n",
    "    Returns:\n",
    "    -----------\n",
    "         evolved (jnp.array): hilbert_size * 1-dimensional array representing the action of the \n",
    "         blocks on the vacuum state\n",
    "    \"\"\"\n",
    "    for t in range(T):\n",
    "        blk = jnp.dot(displace(params[0 + t]), initial)\n",
    "        print(jnp.linalg.norm(blk))\n",
    "        blk = jnp.dot(snap(hilbert_size, params[T + (t * hilbert_size) : T + (t + 1) * hilbert_size]), blk)\n",
    "        print(jnp.linalg.norm(blk))\n",
    "        initial = jnp.dot(displace(-params[0 + t]), blk) # displace(alpha)^{\\dagger} = displace(-alpha)\n",
    "        print(jnp.linalg.norm(initial))\n",
    "\n",
    "    evolved = initial\n",
    "    return evolved\n",
    "\n",
    "def cost(params, initial, target, T, hilbert_size):\n",
    "    \"\"\"Calculates the cost, in this case fidelity, between the target state and \n",
    "    the one evolved by the action of three blocks.\n",
    "    \n",
    "    Args:\n",
    "    -----\n",
    "        params (jnp.array): alpha and theta params of Displace and SNAP respectively, with first three\n",
    "                           being alpha and rest three being theta for each of the SNAP\n",
    "        initial (jnp.array): initial state to apply the blocks on\n",
    "        target (jnp.array): desired state\n",
    "    \n",
    "    Returns:\n",
    "    --------\n",
    "        fidelity (float): Fidelity between the target state and the evolved state\n",
    "    \"\"\"\n",
    "    '''\n",
    "    tmp = jnp.dot(displace(params[0]), initial)\n",
    "    tmp = jnp.dot(snap(N, params[3:3+N]), tmp)\n",
    "    tmp = jnp.dot(displace(-params[0]), tmp)\n",
    "    \n",
    "    tmp = jnp.dot(displace(params[1]), tmp)\n",
    "    tmp = jnp.dot(snap(N, params[3+N:3+2*N]), tmp)\n",
    "    tmp = jnp.dot(displace(-params[1]), tmp)\n",
    "    \n",
    "    tmp = jnp.dot(displace(params[2]), tmp)\n",
    "    tmp = jnp.dot(snap(N, params[3+2*N:]), tmp)\n",
    "    tmp = jnp.dot(displace(-params[2]), tmp)\n",
    "    \n",
    "    return 1 - fidelity(target, tmp)[0][0]\n",
    "    '''\n",
    "    evo = add_blocks(initial, T, hilbert_size, params)\n",
    "    return 1 - fidelity(target, evo)[0][0]"
   ]
  },
  {
   "cell_type": "code",
   "execution_count": 49,
   "metadata": {},
   "outputs": [
    {
     "name": "stdout",
     "output_type": "stream",
     "text": [
      "Epoch: 1.000000 | Cost: -0.049726\n",
      "Epoch: 2.000000 | Cost: 0.034475\n",
      "Epoch: 3.000000 | Cost: 0.123562\n",
      "Epoch: 4.000000 | Cost: 0.214488\n",
      "Epoch: 5.000000 | Cost: 0.304598\n",
      "Epoch: 6.000000 | Cost: 0.392123\n",
      "Epoch: 7.000000 | Cost: 0.475542\n",
      "Epoch: 8.000000 | Cost: 0.553245\n",
      "Epoch: 9.000000 | Cost: 0.623634\n",
      "Epoch: 10.000000 | Cost: 0.685484\n"
     ]
    }
   ],
   "source": [
    "epochs = 10\n",
    "T = 3\n",
    "N = 10\n",
    "lr = 0.01 #learning rate\n",
    "tol = 1e-7\n",
    "diff = 1 # diff of new and prev weights should be less than diff\n",
    "max_iters = 2\n",
    "iters = 0\n",
    "params = jnp.concatenate((alphas, theta1, theta2, theta3)).reshape(3 * N + 3, 1)\n",
    "der_cost = grad(cost) #autodiff of the cost function\n",
    "initial = basis(N, 0)\n",
    "target = (jnp.sqrt(3) * basis(10, 3) +  basis(10, 9)) / 2.0\n",
    "\n",
    "for epoch in range (epochs):\n",
    "    iters = 0\n",
    "    diff = 1\n",
    "    tol = 1e-7\n",
    "    while iters < max_iters:\n",
    "        prev_params = params\n",
    "        der = der_cost(prev_params, initial, target, T, N)\n",
    "        params = prev_params - lr * der \n",
    "        iters += 1\n",
    "        diff = jnp.absolute(params - prev_params)\n",
    "    cost_val = cost(params, initial, target, T, N)\n",
    "    progress = [epoch+1, cost_val]\n",
    "    if ((epoch) % 1 == 0):\n",
    "        print(\"Epoch: {:2f} | Cost: {:3f}\".format(*jnp.asarray(progress)))"
   ]
  },
  {
   "cell_type": "code",
   "execution_count": 40,
   "metadata": {},
   "outputs": [
    {
     "name": "stdout",
     "output_type": "stream",
     "text": [
      "0.9999977\n",
      "2.8582945\n",
      "2.8582935\n"
     ]
    }
   ],
   "source": [
    "initial = basis(N, 0)\n",
    "target = (jnp.sqrt(3) * basis(10, 3) +  basis(10, 9)) / 2.0\n",
    "params = jnp.concatenate((alphas, theta1, theta2, theta3)).reshape(3 * N + 3, 1)\n",
    "\n",
    "tmp = jnp.dot(displace(params[0]), initial)\n",
    "tmp = jnp.dot(snap(N, params[3:3+N]), tmp)\n",
    "tmp = jnp.dot(displace(-params[0]), tmp)\n",
    "#print(jnp.linalg.norm(tmp))\n",
    "\n",
    "tmp = jnp.dot(displace(params[1]), tmp)\n",
    "tmp = jnp.dot(snap(N, params[3+N:3+2*N]), tmp)\n",
    "tmp = jnp.dot(displace(-params[1]), tmp)\n",
    "#print(jnp.linalg.norm(tmp))\n",
    "\n",
    "tmp = jnp.dot(displace(params[2]), tmp)\n",
    "print(jnp.linalg.norm(tmp))\n",
    "tmp = jnp.dot(snap(N, params[3+2*N:3+3*N]), tmp)\n",
    "print(jnp.linalg.norm(tmp))\n",
    "tmp = jnp.dot(displace(-params[2]), tmp)\n",
    "\n",
    "print(jnp.linalg.norm(tmp))\n"
   ]
  },
  {
   "cell_type": "code",
   "execution_count": 31,
   "metadata": {},
   "outputs": [
    {
     "name": "stdout",
     "output_type": "stream",
     "text": [
      "0.9999995\n",
      "0.9999995\n",
      "0.9999991\n",
      "0.99999857\n",
      "0.9999985\n",
      "0.99999815\n",
      "0.9999977\n",
      "2.8582945\n",
      "2.8582935\n"
     ]
    },
    {
     "data": {
      "text/plain": [
       "DeviceArray([[ 1.7000009 +1.0685443j ],\n",
       "             [ 0.25991967-0.48506147j],\n",
       "             [-1.0563033 -0.26160926j],\n",
       "             [ 1.1297278 +0.44781005j],\n",
       "             [-0.82733935-0.343898j  ],\n",
       "             [ 0.49013975+0.20022798j],\n",
       "             [-0.25088373-0.09952512j],\n",
       "             [ 0.11501405+0.04432671j],\n",
       "             [-0.04734494-0.01780776j],\n",
       "             [ 0.02078515+0.00759719j]], dtype=complex64)"
      ]
     },
     "execution_count": 31,
     "metadata": {},
     "output_type": "execute_result"
    }
   ],
   "source": [
    "add_blocks(initial, 3, 10, params)"
   ]
  },
  {
   "cell_type": "code",
   "execution_count": 28,
   "metadata": {},
   "outputs": [
    {
     "name": "stdout",
     "output_type": "stream",
     "text": [
      "0.9999995\n",
      "0.9999995\n",
      "0.9999991\n",
      "0.99999857\n",
      "0.9999985\n",
      "0.99999815\n",
      "0.9999977\n",
      "2.8582945\n",
      "2.8582935\n"
     ]
    },
    {
     "data": {
      "text/plain": [
       "DeviceArray(2.8582935, dtype=float32)"
      ]
     },
     "execution_count": 28,
     "metadata": {},
     "output_type": "execute_result"
    }
   ],
   "source": [
    "jnp.linalg.norm(add_blocks(initial, params, 3, 10))"
   ]
  },
  {
   "cell_type": "markdown",
   "metadata": {},
   "source": [
    "# Decreasing Norm\n",
    "With continued application of each block, actually each operation within each block, the norm of the ket seems to be decreasing"
   ]
  },
  {
   "cell_type": "code",
   "execution_count": null,
   "metadata": {},
   "outputs": [],
   "source": []
  }
 ],
 "metadata": {
  "kernelspec": {
   "display_name": "Python 3",
   "language": "python",
   "name": "python3"
  },
  "language_info": {
   "codemirror_mode": {
    "name": "ipython",
    "version": 3
   },
   "file_extension": ".py",
   "mimetype": "text/x-python",
   "name": "python",
   "nbconvert_exporter": "python",
   "pygments_lexer": "ipython3",
   "version": "3.6.9"
  }
 },
 "nbformat": 4,
 "nbformat_minor": 2
}
